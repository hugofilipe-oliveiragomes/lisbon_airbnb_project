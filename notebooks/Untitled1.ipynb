{
 "cells": [
  {
   "cell_type": "markdown",
   "id": "262233d8",
   "metadata": {},
   "source": [
    "Gole is a research project aiming to analyze the Lisbon Airbnb market trends. It will identify pricing patterns and availability trends, as well as guest preferences, to predict future market movements. This analysis will provide actionable insights for hosts to optimize their listings for increased revenue and occupancy rates. The project will focus on evaluating pricing trends over time, as well as by property type and neighborhood. It will also examine the effects of seasonality on pricing and availability. Based on this analysis, recommendations will be provided for pricing strategies and amenities that hosts can offer to increase their revenue and occupancy rates."
   ]
  },
  {
   "cell_type": "code",
   "execution_count": 1,
   "id": "eef1ccba-38b2-4bd2-84e6-1fcead8f2670",
   "metadata": {},
   "outputs": [
    {
     "name": "stdout",
     "output_type": "stream",
     "text": [
      "Requirement already satisfied: pandas in /Users/hugogomes/anaconda3/lib/python3.11/site-packages (2.0.3)\n",
      "Requirement already satisfied: python-dateutil>=2.8.2 in /Users/hugogomes/anaconda3/lib/python3.11/site-packages (from pandas) (2.8.2)\n",
      "Requirement already satisfied: pytz>=2020.1 in /Users/hugogomes/anaconda3/lib/python3.11/site-packages (from pandas) (2023.3.post1)\n",
      "Requirement already satisfied: tzdata>=2022.1 in /Users/hugogomes/anaconda3/lib/python3.11/site-packages (from pandas) (2023.3)\n",
      "Requirement already satisfied: numpy>=1.21.0 in /Users/hugogomes/anaconda3/lib/python3.11/site-packages (from pandas) (1.24.3)\n",
      "Requirement already satisfied: six>=1.5 in /Users/hugogomes/anaconda3/lib/python3.11/site-packages (from python-dateutil>=2.8.2->pandas) (1.16.0)\n"
     ]
    }
   ],
   "source": [
    "import pandas as pd\n",
    "\n",
    "df1 = pd.read_csv(\"listings dec21.csv\")"
   ]
  },
  {
   "cell_type": "code",
   "execution_count": 2,
   "id": "db7f3002-c772-48bf-9da3-6309a7b6cdc4",
   "metadata": {},
   "outputs": [],
   "source": [
    "df2 = pd.read_csv(\"listings jun21.csv\")"
   ]
  },
  {
   "cell_type": "code",
   "execution_count": 3,
   "id": "c939e59c",
   "metadata": {},
   "outputs": [],
   "source": [
    "df3 = pd.read_csv(\"listings mar21.csv\")"
   ]
  },
  {
   "cell_type": "code",
   "execution_count": 4,
   "id": "ebc134b8",
   "metadata": {},
   "outputs": [],
   "source": [
    "df4 = pd.read_csv(\"listings sep21.csv\")"
   ]
  },
  {
   "cell_type": "code",
   "execution_count": 5,
   "id": "580ba156",
   "metadata": {},
   "outputs": [
    {
     "data": {
      "text/plain": [
       "Index(['id', 'listing_url', 'scrape_id', 'last_scraped', 'name', 'description',\n",
       "       'neighborhood_overview', 'picture_url', 'host_id', 'host_url',\n",
       "       'host_name', 'host_since', 'host_location', 'host_about',\n",
       "       'host_response_time', 'host_response_rate', 'host_acceptance_rate',\n",
       "       'host_is_superhost', 'host_thumbnail_url', 'host_picture_url',\n",
       "       'host_neighbourhood', 'host_listings_count',\n",
       "       'host_total_listings_count', 'host_verifications',\n",
       "       'host_has_profile_pic', 'host_identity_verified', 'neighbourhood',\n",
       "       'neighbourhood_cleansed', 'neighbourhood_group_cleansed', 'latitude',\n",
       "       'longitude', 'property_type', 'room_type', 'accommodates', 'bathrooms',\n",
       "       'bathrooms_text', 'bedrooms', 'beds', 'amenities', 'price',\n",
       "       'minimum_nights', 'maximum_nights', 'minimum_minimum_nights',\n",
       "       'maximum_minimum_nights', 'minimum_maximum_nights',\n",
       "       'maximum_maximum_nights', 'minimum_nights_avg_ntm',\n",
       "       'maximum_nights_avg_ntm', 'calendar_updated', 'has_availability',\n",
       "       'availability_30', 'availability_60', 'availability_90',\n",
       "       'availability_365', 'calendar_last_scraped', 'number_of_reviews',\n",
       "       'number_of_reviews_ltm', 'number_of_reviews_l30d', 'first_review',\n",
       "       'last_review', 'review_scores_rating', 'review_scores_accuracy',\n",
       "       'review_scores_cleanliness', 'review_scores_checkin',\n",
       "       'review_scores_communication', 'review_scores_location',\n",
       "       'review_scores_value', 'license', 'instant_bookable',\n",
       "       'calculated_host_listings_count',\n",
       "       'calculated_host_listings_count_entire_homes',\n",
       "       'calculated_host_listings_count_private_rooms',\n",
       "       'calculated_host_listings_count_shared_rooms', 'reviews_per_month'],\n",
       "      dtype='object')"
      ]
     },
     "execution_count": 5,
     "metadata": {},
     "output_type": "execute_result"
    }
   ],
   "source": [
    "df1.columns"
   ]
  },
  {
   "cell_type": "code",
   "execution_count": 6,
   "id": "091fc056",
   "metadata": {},
   "outputs": [
    {
     "data": {
      "text/plain": [
       "Index(['id', 'listing_url', 'scrape_id', 'last_scraped', 'name', 'description',\n",
       "       'neighborhood_overview', 'picture_url', 'host_id', 'host_url',\n",
       "       'host_name', 'host_since', 'host_location', 'host_about',\n",
       "       'host_response_time', 'host_response_rate', 'host_acceptance_rate',\n",
       "       'host_is_superhost', 'host_thumbnail_url', 'host_picture_url',\n",
       "       'host_neighbourhood', 'host_listings_count',\n",
       "       'host_total_listings_count', 'host_verifications',\n",
       "       'host_has_profile_pic', 'host_identity_verified', 'neighbourhood',\n",
       "       'neighbourhood_cleansed', 'neighbourhood_group_cleansed', 'latitude',\n",
       "       'longitude', 'property_type', 'room_type', 'accommodates', 'bathrooms',\n",
       "       'bathrooms_text', 'bedrooms', 'beds', 'amenities', 'price',\n",
       "       'minimum_nights', 'maximum_nights', 'minimum_minimum_nights',\n",
       "       'maximum_minimum_nights', 'minimum_maximum_nights',\n",
       "       'maximum_maximum_nights', 'minimum_nights_avg_ntm',\n",
       "       'maximum_nights_avg_ntm', 'calendar_updated', 'has_availability',\n",
       "       'availability_30', 'availability_60', 'availability_90',\n",
       "       'availability_365', 'calendar_last_scraped', 'number_of_reviews',\n",
       "       'number_of_reviews_ltm', 'number_of_reviews_l30d', 'first_review',\n",
       "       'last_review', 'review_scores_rating', 'review_scores_accuracy',\n",
       "       'review_scores_cleanliness', 'review_scores_checkin',\n",
       "       'review_scores_communication', 'review_scores_location',\n",
       "       'review_scores_value', 'license', 'instant_bookable',\n",
       "       'calculated_host_listings_count',\n",
       "       'calculated_host_listings_count_entire_homes',\n",
       "       'calculated_host_listings_count_private_rooms',\n",
       "       'calculated_host_listings_count_shared_rooms', 'reviews_per_month'],\n",
       "      dtype='object')"
      ]
     },
     "execution_count": 6,
     "metadata": {},
     "output_type": "execute_result"
    }
   ],
   "source": [
    "df2.columns"
   ]
  },
  {
   "cell_type": "code",
   "execution_count": 7,
   "id": "5baa8f5d",
   "metadata": {},
   "outputs": [
    {
     "data": {
      "text/plain": [
       "Index(['id', 'listing_url', 'scrape_id', 'last_scraped', 'name', 'description',\n",
       "       'neighborhood_overview', 'picture_url', 'host_id', 'host_url',\n",
       "       'host_name', 'host_since', 'host_location', 'host_about',\n",
       "       'host_response_time', 'host_response_rate', 'host_acceptance_rate',\n",
       "       'host_is_superhost', 'host_thumbnail_url', 'host_picture_url',\n",
       "       'host_neighbourhood', 'host_listings_count',\n",
       "       'host_total_listings_count', 'host_verifications',\n",
       "       'host_has_profile_pic', 'host_identity_verified', 'neighbourhood',\n",
       "       'neighbourhood_cleansed', 'neighbourhood_group_cleansed', 'latitude',\n",
       "       'longitude', 'property_type', 'room_type', 'accommodates', 'bathrooms',\n",
       "       'bathrooms_text', 'bedrooms', 'beds', 'amenities', 'price',\n",
       "       'minimum_nights', 'maximum_nights', 'minimum_minimum_nights',\n",
       "       'maximum_minimum_nights', 'minimum_maximum_nights',\n",
       "       'maximum_maximum_nights', 'minimum_nights_avg_ntm',\n",
       "       'maximum_nights_avg_ntm', 'calendar_updated', 'has_availability',\n",
       "       'availability_30', 'availability_60', 'availability_90',\n",
       "       'availability_365', 'calendar_last_scraped', 'number_of_reviews',\n",
       "       'number_of_reviews_ltm', 'number_of_reviews_l30d', 'first_review',\n",
       "       'last_review', 'review_scores_rating', 'review_scores_accuracy',\n",
       "       'review_scores_cleanliness', 'review_scores_checkin',\n",
       "       'review_scores_communication', 'review_scores_location',\n",
       "       'review_scores_value', 'license', 'instant_bookable',\n",
       "       'calculated_host_listings_count',\n",
       "       'calculated_host_listings_count_entire_homes',\n",
       "       'calculated_host_listings_count_private_rooms',\n",
       "       'calculated_host_listings_count_shared_rooms', 'reviews_per_month'],\n",
       "      dtype='object')"
      ]
     },
     "execution_count": 7,
     "metadata": {},
     "output_type": "execute_result"
    }
   ],
   "source": [
    "df3.columns"
   ]
  },
  {
   "cell_type": "code",
   "execution_count": 8,
   "id": "793ebf0e",
   "metadata": {},
   "outputs": [
    {
     "data": {
      "text/plain": [
       "Index(['id', 'listing_url', 'scrape_id', 'last_scraped', 'name', 'description',\n",
       "       'neighborhood_overview', 'picture_url', 'host_id', 'host_url',\n",
       "       'host_name', 'host_since', 'host_location', 'host_about',\n",
       "       'host_response_time', 'host_response_rate', 'host_acceptance_rate',\n",
       "       'host_is_superhost', 'host_thumbnail_url', 'host_picture_url',\n",
       "       'host_neighbourhood', 'host_listings_count',\n",
       "       'host_total_listings_count', 'host_verifications',\n",
       "       'host_has_profile_pic', 'host_identity_verified', 'neighbourhood',\n",
       "       'neighbourhood_cleansed', 'neighbourhood_group_cleansed', 'latitude',\n",
       "       'longitude', 'property_type', 'room_type', 'accommodates', 'bathrooms',\n",
       "       'bathrooms_text', 'bedrooms', 'beds', 'amenities', 'price',\n",
       "       'minimum_nights', 'maximum_nights', 'minimum_minimum_nights',\n",
       "       'maximum_minimum_nights', 'minimum_maximum_nights',\n",
       "       'maximum_maximum_nights', 'minimum_nights_avg_ntm',\n",
       "       'maximum_nights_avg_ntm', 'calendar_updated', 'has_availability',\n",
       "       'availability_30', 'availability_60', 'availability_90',\n",
       "       'availability_365', 'calendar_last_scraped', 'number_of_reviews',\n",
       "       'number_of_reviews_ltm', 'number_of_reviews_l30d', 'first_review',\n",
       "       'last_review', 'review_scores_rating', 'review_scores_accuracy',\n",
       "       'review_scores_cleanliness', 'review_scores_checkin',\n",
       "       'review_scores_communication', 'review_scores_location',\n",
       "       'review_scores_value', 'license', 'instant_bookable',\n",
       "       'calculated_host_listings_count',\n",
       "       'calculated_host_listings_count_entire_homes',\n",
       "       'calculated_host_listings_count_private_rooms',\n",
       "       'calculated_host_listings_count_shared_rooms', 'reviews_per_month'],\n",
       "      dtype='object')"
      ]
     },
     "execution_count": 8,
     "metadata": {},
     "output_type": "execute_result"
    }
   ],
   "source": [
    "df3.columns"
   ]
  },
  {
   "cell_type": "code",
   "execution_count": 9,
   "id": "0859b17b",
   "metadata": {},
   "outputs": [
    {
     "data": {
      "text/html": [
       "<div>\n",
       "<style scoped>\n",
       "    .dataframe tbody tr th:only-of-type {\n",
       "        vertical-align: middle;\n",
       "    }\n",
       "\n",
       "    .dataframe tbody tr th {\n",
       "        vertical-align: top;\n",
       "    }\n",
       "\n",
       "    .dataframe thead th {\n",
       "        text-align: right;\n",
       "    }\n",
       "</style>\n",
       "<table border=\"1\" class=\"dataframe\">\n",
       "  <thead>\n",
       "    <tr style=\"text-align: right;\">\n",
       "      <th></th>\n",
       "      <th>id</th>\n",
       "      <th>listing_url</th>\n",
       "      <th>scrape_id</th>\n",
       "      <th>last_scraped</th>\n",
       "      <th>name</th>\n",
       "      <th>description</th>\n",
       "      <th>neighborhood_overview</th>\n",
       "      <th>picture_url</th>\n",
       "      <th>host_id</th>\n",
       "      <th>host_url</th>\n",
       "      <th>...</th>\n",
       "      <th>review_scores_communication</th>\n",
       "      <th>review_scores_location</th>\n",
       "      <th>review_scores_value</th>\n",
       "      <th>license</th>\n",
       "      <th>instant_bookable</th>\n",
       "      <th>calculated_host_listings_count</th>\n",
       "      <th>calculated_host_listings_count_entire_homes</th>\n",
       "      <th>calculated_host_listings_count_private_rooms</th>\n",
       "      <th>calculated_host_listings_count_shared_rooms</th>\n",
       "      <th>reviews_per_month</th>\n",
       "    </tr>\n",
       "  </thead>\n",
       "  <tbody>\n",
       "    <tr>\n",
       "      <th>0</th>\n",
       "      <td>6499</td>\n",
       "      <td>https://www.airbnb.com/rooms/6499</td>\n",
       "      <td>20211208225323</td>\n",
       "      <td>2021-12-10</td>\n",
       "      <td>Belém 1 Bedroom Historical Apartment</td>\n",
       "      <td>This apartment is all about Location, next to ...</td>\n",
       "      <td>To get  to the city center, tram 15 stops in f...</td>\n",
       "      <td>https://a0.muscache.com/pictures/6422ee92-c84e...</td>\n",
       "      <td>14455</td>\n",
       "      <td>https://www.airbnb.com/users/show/14455</td>\n",
       "      <td>...</td>\n",
       "      <td>4.97</td>\n",
       "      <td>4.81</td>\n",
       "      <td>4.52</td>\n",
       "      <td>NaN</td>\n",
       "      <td>t</td>\n",
       "      <td>1</td>\n",
       "      <td>1</td>\n",
       "      <td>0</td>\n",
       "      <td>0</td>\n",
       "      <td>0.36</td>\n",
       "    </tr>\n",
       "    <tr>\n",
       "      <th>1</th>\n",
       "      <td>25659</td>\n",
       "      <td>https://www.airbnb.com/rooms/25659</td>\n",
       "      <td>20211208225323</td>\n",
       "      <td>2021-12-09</td>\n",
       "      <td>Heart of Alfama Lisbon Center - Cœur de l'Alfama</td>\n",
       "      <td>*** 100% Covid 19 cleaning protocols &lt;br /&gt;NON...</td>\n",
       "      <td>Alfama is the oldest and most picturesque quar...</td>\n",
       "      <td>https://a0.muscache.com/pictures/a4c86b5f-ceaf...</td>\n",
       "      <td>107347</td>\n",
       "      <td>https://www.airbnb.com/users/show/107347</td>\n",
       "      <td>...</td>\n",
       "      <td>4.97</td>\n",
       "      <td>4.88</td>\n",
       "      <td>4.82</td>\n",
       "      <td>56539/AL.</td>\n",
       "      <td>t</td>\n",
       "      <td>1</td>\n",
       "      <td>1</td>\n",
       "      <td>0</td>\n",
       "      <td>0</td>\n",
       "      <td>1.37</td>\n",
       "    </tr>\n",
       "    <tr>\n",
       "      <th>2</th>\n",
       "      <td>29248</td>\n",
       "      <td>https://www.airbnb.com/rooms/29248</td>\n",
       "      <td>20211208225323</td>\n",
       "      <td>2021-12-09</td>\n",
       "      <td>Apartamento Alfama com vista para o rio!</td>\n",
       "      <td>&lt;b&gt;The space&lt;/b&gt;&lt;br /&gt;Located in the city cent...</td>\n",
       "      <td>NaN</td>\n",
       "      <td>https://a0.muscache.com/pictures/4212cc65-2046...</td>\n",
       "      <td>125768</td>\n",
       "      <td>https://www.airbnb.com/users/show/125768</td>\n",
       "      <td>...</td>\n",
       "      <td>4.74</td>\n",
       "      <td>4.82</td>\n",
       "      <td>4.61</td>\n",
       "      <td>23535/AL</td>\n",
       "      <td>t</td>\n",
       "      <td>1</td>\n",
       "      <td>1</td>\n",
       "      <td>0</td>\n",
       "      <td>0</td>\n",
       "      <td>2.53</td>\n",
       "    </tr>\n",
       "    <tr>\n",
       "      <th>3</th>\n",
       "      <td>29396</td>\n",
       "      <td>https://www.airbnb.com/rooms/29396</td>\n",
       "      <td>20211208225323</td>\n",
       "      <td>2021-12-09</td>\n",
       "      <td>Alfama Hill - Boutique apartment</td>\n",
       "      <td>Feel at home in the historic centre of Lisbon....</td>\n",
       "      <td>Great neighborhood in the old part of town. Am...</td>\n",
       "      <td>https://a0.muscache.com/pictures/163913/7d622c...</td>\n",
       "      <td>126415</td>\n",
       "      <td>https://www.airbnb.com/users/show/126415</td>\n",
       "      <td>...</td>\n",
       "      <td>4.91</td>\n",
       "      <td>4.88</td>\n",
       "      <td>4.75</td>\n",
       "      <td>28737/AL</td>\n",
       "      <td>t</td>\n",
       "      <td>1</td>\n",
       "      <td>1</td>\n",
       "      <td>0</td>\n",
       "      <td>0</td>\n",
       "      <td>2.57</td>\n",
       "    </tr>\n",
       "    <tr>\n",
       "      <th>4</th>\n",
       "      <td>29720</td>\n",
       "      <td>https://www.airbnb.com/rooms/29720</td>\n",
       "      <td>20211208225323</td>\n",
       "      <td>2021-12-09</td>\n",
       "      <td>TheHOUSE - Your luxury home</td>\n",
       "      <td>A house at the top of an anonimous building, T...</td>\n",
       "      <td>Location in the city's Embassies area, near en...</td>\n",
       "      <td>https://a0.muscache.com/pictures/7c977dcc-57d0...</td>\n",
       "      <td>128075</td>\n",
       "      <td>https://www.airbnb.com/users/show/128075</td>\n",
       "      <td>...</td>\n",
       "      <td>4.97</td>\n",
       "      <td>4.83</td>\n",
       "      <td>4.60</td>\n",
       "      <td>55695/AL</td>\n",
       "      <td>f</td>\n",
       "      <td>2</td>\n",
       "      <td>2</td>\n",
       "      <td>0</td>\n",
       "      <td>0</td>\n",
       "      <td>0.48</td>\n",
       "    </tr>\n",
       "    <tr>\n",
       "      <th>...</th>\n",
       "      <td>...</td>\n",
       "      <td>...</td>\n",
       "      <td>...</td>\n",
       "      <td>...</td>\n",
       "      <td>...</td>\n",
       "      <td>...</td>\n",
       "      <td>...</td>\n",
       "      <td>...</td>\n",
       "      <td>...</td>\n",
       "      <td>...</td>\n",
       "      <td>...</td>\n",
       "      <td>...</td>\n",
       "      <td>...</td>\n",
       "      <td>...</td>\n",
       "      <td>...</td>\n",
       "      <td>...</td>\n",
       "      <td>...</td>\n",
       "      <td>...</td>\n",
       "      <td>...</td>\n",
       "      <td>...</td>\n",
       "      <td>...</td>\n",
       "    </tr>\n",
       "    <tr>\n",
       "      <th>19100</th>\n",
       "      <td>52262957</td>\n",
       "      <td>https://www.airbnb.com/rooms/52262957</td>\n",
       "      <td>20210916032316</td>\n",
       "      <td>2021-09-16</td>\n",
       "      <td>Quarto perto do jardim Príncipe Real</td>\n",
       "      <td>&lt;b&gt;License number&lt;/b&gt;&lt;br /&gt;Exempt</td>\n",
       "      <td>NaN</td>\n",
       "      <td>https://a0.muscache.com/pictures/c925a0f3-eec0...</td>\n",
       "      <td>189741039</td>\n",
       "      <td>https://www.airbnb.com/users/show/189741039</td>\n",
       "      <td>...</td>\n",
       "      <td>NaN</td>\n",
       "      <td>NaN</td>\n",
       "      <td>NaN</td>\n",
       "      <td>Exempt</td>\n",
       "      <td>f</td>\n",
       "      <td>2</td>\n",
       "      <td>0</td>\n",
       "      <td>2</td>\n",
       "      <td>0</td>\n",
       "      <td>NaN</td>\n",
       "    </tr>\n",
       "    <tr>\n",
       "      <th>19101</th>\n",
       "      <td>52263789</td>\n",
       "      <td>https://www.airbnb.com/rooms/52263789</td>\n",
       "      <td>20210916032316</td>\n",
       "      <td>2021-09-16</td>\n",
       "      <td>Studio Room in the Center</td>\n",
       "      <td>Simplifique neste espaço tranquilo e de locali...</td>\n",
       "      <td>NaN</td>\n",
       "      <td>https://a0.muscache.com/pictures/e3fd66b0-4417...</td>\n",
       "      <td>422738531</td>\n",
       "      <td>https://www.airbnb.com/users/show/422738531</td>\n",
       "      <td>...</td>\n",
       "      <td>NaN</td>\n",
       "      <td>NaN</td>\n",
       "      <td>NaN</td>\n",
       "      <td>34521/AL</td>\n",
       "      <td>t</td>\n",
       "      <td>3</td>\n",
       "      <td>1</td>\n",
       "      <td>2</td>\n",
       "      <td>0</td>\n",
       "      <td>NaN</td>\n",
       "    </tr>\n",
       "    <tr>\n",
       "      <th>19102</th>\n",
       "      <td>52275675</td>\n",
       "      <td>https://www.airbnb.com/rooms/52275675</td>\n",
       "      <td>20210916032316</td>\n",
       "      <td>2021-09-16</td>\n",
       "      <td>Best location in Ericeira Praia do Sul Apartment</td>\n",
       "      <td>Brand newly decorated luxurious 2 bedroom apar...</td>\n",
       "      <td>NaN</td>\n",
       "      <td>https://a0.muscache.com/pictures/dd749e12-7bce...</td>\n",
       "      <td>157128049</td>\n",
       "      <td>https://www.airbnb.com/users/show/157128049</td>\n",
       "      <td>...</td>\n",
       "      <td>NaN</td>\n",
       "      <td>NaN</td>\n",
       "      <td>NaN</td>\n",
       "      <td>16836/AL</td>\n",
       "      <td>f</td>\n",
       "      <td>1</td>\n",
       "      <td>1</td>\n",
       "      <td>0</td>\n",
       "      <td>0</td>\n",
       "      <td>NaN</td>\n",
       "    </tr>\n",
       "    <tr>\n",
       "      <th>19103</th>\n",
       "      <td>52277785</td>\n",
       "      <td>https://www.airbnb.com/rooms/52277785</td>\n",
       "      <td>20210916032316</td>\n",
       "      <td>2021-09-16</td>\n",
       "      <td>NEW!! Amazing Studio with Bathtub in Baixa</td>\n",
       "      <td>Studio/Loft with Bathtub in Baixa - Beautiful ...</td>\n",
       "      <td>Baixa is start point to discover Lisbon, the m...</td>\n",
       "      <td>https://a0.muscache.com/pictures/miso/Hosting-...</td>\n",
       "      <td>415596856</td>\n",
       "      <td>https://www.airbnb.com/users/show/415596856</td>\n",
       "      <td>...</td>\n",
       "      <td>NaN</td>\n",
       "      <td>NaN</td>\n",
       "      <td>NaN</td>\n",
       "      <td>37452/AL</td>\n",
       "      <td>t</td>\n",
       "      <td>5</td>\n",
       "      <td>5</td>\n",
       "      <td>0</td>\n",
       "      <td>0</td>\n",
       "      <td>NaN</td>\n",
       "    </tr>\n",
       "    <tr>\n",
       "      <th>19104</th>\n",
       "      <td>52279465</td>\n",
       "      <td>https://www.airbnb.com/rooms/52279465</td>\n",
       "      <td>20210916032316</td>\n",
       "      <td>2021-09-16</td>\n",
       "      <td>BICA 2</td>\n",
       "      <td>Located in the heart of Lisbon, in the middle ...</td>\n",
       "      <td>NaN</td>\n",
       "      <td>https://a0.muscache.com/pictures/7a159478-4a88...</td>\n",
       "      <td>624278</td>\n",
       "      <td>https://www.airbnb.com/users/show/624278</td>\n",
       "      <td>...</td>\n",
       "      <td>NaN</td>\n",
       "      <td>NaN</td>\n",
       "      <td>NaN</td>\n",
       "      <td>61054/AL</td>\n",
       "      <td>f</td>\n",
       "      <td>5</td>\n",
       "      <td>5</td>\n",
       "      <td>0</td>\n",
       "      <td>0</td>\n",
       "      <td>NaN</td>\n",
       "    </tr>\n",
       "  </tbody>\n",
       "</table>\n",
       "<p>76716 rows × 74 columns</p>\n",
       "</div>"
      ],
      "text/plain": [
       "             id                            listing_url       scrape_id  \\\n",
       "0          6499      https://www.airbnb.com/rooms/6499  20211208225323   \n",
       "1         25659     https://www.airbnb.com/rooms/25659  20211208225323   \n",
       "2         29248     https://www.airbnb.com/rooms/29248  20211208225323   \n",
       "3         29396     https://www.airbnb.com/rooms/29396  20211208225323   \n",
       "4         29720     https://www.airbnb.com/rooms/29720  20211208225323   \n",
       "...         ...                                    ...             ...   \n",
       "19100  52262957  https://www.airbnb.com/rooms/52262957  20210916032316   \n",
       "19101  52263789  https://www.airbnb.com/rooms/52263789  20210916032316   \n",
       "19102  52275675  https://www.airbnb.com/rooms/52275675  20210916032316   \n",
       "19103  52277785  https://www.airbnb.com/rooms/52277785  20210916032316   \n",
       "19104  52279465  https://www.airbnb.com/rooms/52279465  20210916032316   \n",
       "\n",
       "      last_scraped                                              name  \\\n",
       "0       2021-12-10              Belém 1 Bedroom Historical Apartment   \n",
       "1       2021-12-09  Heart of Alfama Lisbon Center - Cœur de l'Alfama   \n",
       "2       2021-12-09          Apartamento Alfama com vista para o rio!   \n",
       "3       2021-12-09                  Alfama Hill - Boutique apartment   \n",
       "4       2021-12-09                       TheHOUSE - Your luxury home   \n",
       "...            ...                                               ...   \n",
       "19100   2021-09-16              Quarto perto do jardim Príncipe Real   \n",
       "19101   2021-09-16                         Studio Room in the Center   \n",
       "19102   2021-09-16  Best location in Ericeira Praia do Sul Apartment   \n",
       "19103   2021-09-16        NEW!! Amazing Studio with Bathtub in Baixa   \n",
       "19104   2021-09-16                                            BICA 2   \n",
       "\n",
       "                                             description  \\\n",
       "0      This apartment is all about Location, next to ...   \n",
       "1      *** 100% Covid 19 cleaning protocols <br />NON...   \n",
       "2      <b>The space</b><br />Located in the city cent...   \n",
       "3      Feel at home in the historic centre of Lisbon....   \n",
       "4      A house at the top of an anonimous building, T...   \n",
       "...                                                  ...   \n",
       "19100                  <b>License number</b><br />Exempt   \n",
       "19101  Simplifique neste espaço tranquilo e de locali...   \n",
       "19102  Brand newly decorated luxurious 2 bedroom apar...   \n",
       "19103  Studio/Loft with Bathtub in Baixa - Beautiful ...   \n",
       "19104  Located in the heart of Lisbon, in the middle ...   \n",
       "\n",
       "                                   neighborhood_overview  \\\n",
       "0      To get  to the city center, tram 15 stops in f...   \n",
       "1      Alfama is the oldest and most picturesque quar...   \n",
       "2                                                    NaN   \n",
       "3      Great neighborhood in the old part of town. Am...   \n",
       "4      Location in the city's Embassies area, near en...   \n",
       "...                                                  ...   \n",
       "19100                                                NaN   \n",
       "19101                                                NaN   \n",
       "19102                                                NaN   \n",
       "19103  Baixa is start point to discover Lisbon, the m...   \n",
       "19104                                                NaN   \n",
       "\n",
       "                                             picture_url    host_id  \\\n",
       "0      https://a0.muscache.com/pictures/6422ee92-c84e...      14455   \n",
       "1      https://a0.muscache.com/pictures/a4c86b5f-ceaf...     107347   \n",
       "2      https://a0.muscache.com/pictures/4212cc65-2046...     125768   \n",
       "3      https://a0.muscache.com/pictures/163913/7d622c...     126415   \n",
       "4      https://a0.muscache.com/pictures/7c977dcc-57d0...     128075   \n",
       "...                                                  ...        ...   \n",
       "19100  https://a0.muscache.com/pictures/c925a0f3-eec0...  189741039   \n",
       "19101  https://a0.muscache.com/pictures/e3fd66b0-4417...  422738531   \n",
       "19102  https://a0.muscache.com/pictures/dd749e12-7bce...  157128049   \n",
       "19103  https://a0.muscache.com/pictures/miso/Hosting-...  415596856   \n",
       "19104  https://a0.muscache.com/pictures/7a159478-4a88...     624278   \n",
       "\n",
       "                                          host_url  ...  \\\n",
       "0          https://www.airbnb.com/users/show/14455  ...   \n",
       "1         https://www.airbnb.com/users/show/107347  ...   \n",
       "2         https://www.airbnb.com/users/show/125768  ...   \n",
       "3         https://www.airbnb.com/users/show/126415  ...   \n",
       "4         https://www.airbnb.com/users/show/128075  ...   \n",
       "...                                            ...  ...   \n",
       "19100  https://www.airbnb.com/users/show/189741039  ...   \n",
       "19101  https://www.airbnb.com/users/show/422738531  ...   \n",
       "19102  https://www.airbnb.com/users/show/157128049  ...   \n",
       "19103  https://www.airbnb.com/users/show/415596856  ...   \n",
       "19104     https://www.airbnb.com/users/show/624278  ...   \n",
       "\n",
       "      review_scores_communication review_scores_location review_scores_value  \\\n",
       "0                            4.97                   4.81                4.52   \n",
       "1                            4.97                   4.88                4.82   \n",
       "2                            4.74                   4.82                4.61   \n",
       "3                            4.91                   4.88                4.75   \n",
       "4                            4.97                   4.83                4.60   \n",
       "...                           ...                    ...                 ...   \n",
       "19100                         NaN                    NaN                 NaN   \n",
       "19101                         NaN                    NaN                 NaN   \n",
       "19102                         NaN                    NaN                 NaN   \n",
       "19103                         NaN                    NaN                 NaN   \n",
       "19104                         NaN                    NaN                 NaN   \n",
       "\n",
       "         license instant_bookable calculated_host_listings_count  \\\n",
       "0            NaN                t                              1   \n",
       "1      56539/AL.                t                              1   \n",
       "2       23535/AL                t                              1   \n",
       "3       28737/AL                t                              1   \n",
       "4       55695/AL                f                              2   \n",
       "...          ...              ...                            ...   \n",
       "19100     Exempt                f                              2   \n",
       "19101   34521/AL                t                              3   \n",
       "19102   16836/AL                f                              1   \n",
       "19103   37452/AL                t                              5   \n",
       "19104   61054/AL                f                              5   \n",
       "\n",
       "      calculated_host_listings_count_entire_homes  \\\n",
       "0                                               1   \n",
       "1                                               1   \n",
       "2                                               1   \n",
       "3                                               1   \n",
       "4                                               2   \n",
       "...                                           ...   \n",
       "19100                                           0   \n",
       "19101                                           1   \n",
       "19102                                           1   \n",
       "19103                                           5   \n",
       "19104                                           5   \n",
       "\n",
       "      calculated_host_listings_count_private_rooms  \\\n",
       "0                                                0   \n",
       "1                                                0   \n",
       "2                                                0   \n",
       "3                                                0   \n",
       "4                                                0   \n",
       "...                                            ...   \n",
       "19100                                            2   \n",
       "19101                                            2   \n",
       "19102                                            0   \n",
       "19103                                            0   \n",
       "19104                                            0   \n",
       "\n",
       "      calculated_host_listings_count_shared_rooms reviews_per_month  \n",
       "0                                               0              0.36  \n",
       "1                                               0              1.37  \n",
       "2                                               0              2.53  \n",
       "3                                               0              2.57  \n",
       "4                                               0              0.48  \n",
       "...                                           ...               ...  \n",
       "19100                                           0               NaN  \n",
       "19101                                           0               NaN  \n",
       "19102                                           0               NaN  \n",
       "19103                                           0               NaN  \n",
       "19104                                           0               NaN  \n",
       "\n",
       "[76716 rows x 74 columns]"
      ]
     },
     "metadata": {},
     "output_type": "display_data"
    }
   ],
   "source": [
    "df1234 = pd.concat([df1, df2, df3, df4], axis=0)\n",
    "display(df1234)"
   ]
  },
  {
   "cell_type": "code",
   "execution_count": 10,
   "id": "ac4695dc",
   "metadata": {},
   "outputs": [
    {
     "data": {
      "text/html": [
       "<div>\n",
       "<style scoped>\n",
       "    .dataframe tbody tr th:only-of-type {\n",
       "        vertical-align: middle;\n",
       "    }\n",
       "\n",
       "    .dataframe tbody tr th {\n",
       "        vertical-align: top;\n",
       "    }\n",
       "\n",
       "    .dataframe thead th {\n",
       "        text-align: right;\n",
       "    }\n",
       "</style>\n",
       "<table border=\"1\" class=\"dataframe\">\n",
       "  <thead>\n",
       "    <tr style=\"text-align: right;\">\n",
       "      <th></th>\n",
       "      <th>id</th>\n",
       "      <th>listing_url</th>\n",
       "      <th>scrape_id</th>\n",
       "      <th>last_scraped</th>\n",
       "      <th>name</th>\n",
       "      <th>description</th>\n",
       "      <th>neighborhood_overview</th>\n",
       "      <th>picture_url</th>\n",
       "      <th>host_id</th>\n",
       "      <th>host_url</th>\n",
       "      <th>...</th>\n",
       "      <th>review_scores_communication</th>\n",
       "      <th>review_scores_location</th>\n",
       "      <th>review_scores_value</th>\n",
       "      <th>license</th>\n",
       "      <th>instant_bookable</th>\n",
       "      <th>calculated_host_listings_count</th>\n",
       "      <th>calculated_host_listings_count_entire_homes</th>\n",
       "      <th>calculated_host_listings_count_private_rooms</th>\n",
       "      <th>calculated_host_listings_count_shared_rooms</th>\n",
       "      <th>reviews_per_month</th>\n",
       "    </tr>\n",
       "  </thead>\n",
       "  <tbody>\n",
       "    <tr>\n",
       "      <th>0</th>\n",
       "      <td>False</td>\n",
       "      <td>False</td>\n",
       "      <td>False</td>\n",
       "      <td>False</td>\n",
       "      <td>False</td>\n",
       "      <td>False</td>\n",
       "      <td>False</td>\n",
       "      <td>False</td>\n",
       "      <td>False</td>\n",
       "      <td>False</td>\n",
       "      <td>...</td>\n",
       "      <td>False</td>\n",
       "      <td>False</td>\n",
       "      <td>False</td>\n",
       "      <td>True</td>\n",
       "      <td>False</td>\n",
       "      <td>False</td>\n",
       "      <td>False</td>\n",
       "      <td>False</td>\n",
       "      <td>False</td>\n",
       "      <td>False</td>\n",
       "    </tr>\n",
       "    <tr>\n",
       "      <th>1</th>\n",
       "      <td>False</td>\n",
       "      <td>False</td>\n",
       "      <td>False</td>\n",
       "      <td>False</td>\n",
       "      <td>False</td>\n",
       "      <td>False</td>\n",
       "      <td>False</td>\n",
       "      <td>False</td>\n",
       "      <td>False</td>\n",
       "      <td>False</td>\n",
       "      <td>...</td>\n",
       "      <td>False</td>\n",
       "      <td>False</td>\n",
       "      <td>False</td>\n",
       "      <td>False</td>\n",
       "      <td>False</td>\n",
       "      <td>False</td>\n",
       "      <td>False</td>\n",
       "      <td>False</td>\n",
       "      <td>False</td>\n",
       "      <td>False</td>\n",
       "    </tr>\n",
       "    <tr>\n",
       "      <th>2</th>\n",
       "      <td>False</td>\n",
       "      <td>False</td>\n",
       "      <td>False</td>\n",
       "      <td>False</td>\n",
       "      <td>False</td>\n",
       "      <td>False</td>\n",
       "      <td>True</td>\n",
       "      <td>False</td>\n",
       "      <td>False</td>\n",
       "      <td>False</td>\n",
       "      <td>...</td>\n",
       "      <td>False</td>\n",
       "      <td>False</td>\n",
       "      <td>False</td>\n",
       "      <td>False</td>\n",
       "      <td>False</td>\n",
       "      <td>False</td>\n",
       "      <td>False</td>\n",
       "      <td>False</td>\n",
       "      <td>False</td>\n",
       "      <td>False</td>\n",
       "    </tr>\n",
       "    <tr>\n",
       "      <th>3</th>\n",
       "      <td>False</td>\n",
       "      <td>False</td>\n",
       "      <td>False</td>\n",
       "      <td>False</td>\n",
       "      <td>False</td>\n",
       "      <td>False</td>\n",
       "      <td>False</td>\n",
       "      <td>False</td>\n",
       "      <td>False</td>\n",
       "      <td>False</td>\n",
       "      <td>...</td>\n",
       "      <td>False</td>\n",
       "      <td>False</td>\n",
       "      <td>False</td>\n",
       "      <td>False</td>\n",
       "      <td>False</td>\n",
       "      <td>False</td>\n",
       "      <td>False</td>\n",
       "      <td>False</td>\n",
       "      <td>False</td>\n",
       "      <td>False</td>\n",
       "    </tr>\n",
       "    <tr>\n",
       "      <th>4</th>\n",
       "      <td>False</td>\n",
       "      <td>False</td>\n",
       "      <td>False</td>\n",
       "      <td>False</td>\n",
       "      <td>False</td>\n",
       "      <td>False</td>\n",
       "      <td>False</td>\n",
       "      <td>False</td>\n",
       "      <td>False</td>\n",
       "      <td>False</td>\n",
       "      <td>...</td>\n",
       "      <td>False</td>\n",
       "      <td>False</td>\n",
       "      <td>False</td>\n",
       "      <td>False</td>\n",
       "      <td>False</td>\n",
       "      <td>False</td>\n",
       "      <td>False</td>\n",
       "      <td>False</td>\n",
       "      <td>False</td>\n",
       "      <td>False</td>\n",
       "    </tr>\n",
       "    <tr>\n",
       "      <th>...</th>\n",
       "      <td>...</td>\n",
       "      <td>...</td>\n",
       "      <td>...</td>\n",
       "      <td>...</td>\n",
       "      <td>...</td>\n",
       "      <td>...</td>\n",
       "      <td>...</td>\n",
       "      <td>...</td>\n",
       "      <td>...</td>\n",
       "      <td>...</td>\n",
       "      <td>...</td>\n",
       "      <td>...</td>\n",
       "      <td>...</td>\n",
       "      <td>...</td>\n",
       "      <td>...</td>\n",
       "      <td>...</td>\n",
       "      <td>...</td>\n",
       "      <td>...</td>\n",
       "      <td>...</td>\n",
       "      <td>...</td>\n",
       "      <td>...</td>\n",
       "    </tr>\n",
       "    <tr>\n",
       "      <th>19100</th>\n",
       "      <td>False</td>\n",
       "      <td>False</td>\n",
       "      <td>False</td>\n",
       "      <td>False</td>\n",
       "      <td>False</td>\n",
       "      <td>False</td>\n",
       "      <td>True</td>\n",
       "      <td>False</td>\n",
       "      <td>False</td>\n",
       "      <td>False</td>\n",
       "      <td>...</td>\n",
       "      <td>True</td>\n",
       "      <td>True</td>\n",
       "      <td>True</td>\n",
       "      <td>False</td>\n",
       "      <td>False</td>\n",
       "      <td>False</td>\n",
       "      <td>False</td>\n",
       "      <td>False</td>\n",
       "      <td>False</td>\n",
       "      <td>True</td>\n",
       "    </tr>\n",
       "    <tr>\n",
       "      <th>19101</th>\n",
       "      <td>False</td>\n",
       "      <td>False</td>\n",
       "      <td>False</td>\n",
       "      <td>False</td>\n",
       "      <td>False</td>\n",
       "      <td>False</td>\n",
       "      <td>True</td>\n",
       "      <td>False</td>\n",
       "      <td>False</td>\n",
       "      <td>False</td>\n",
       "      <td>...</td>\n",
       "      <td>True</td>\n",
       "      <td>True</td>\n",
       "      <td>True</td>\n",
       "      <td>False</td>\n",
       "      <td>False</td>\n",
       "      <td>False</td>\n",
       "      <td>False</td>\n",
       "      <td>False</td>\n",
       "      <td>False</td>\n",
       "      <td>True</td>\n",
       "    </tr>\n",
       "    <tr>\n",
       "      <th>19102</th>\n",
       "      <td>False</td>\n",
       "      <td>False</td>\n",
       "      <td>False</td>\n",
       "      <td>False</td>\n",
       "      <td>False</td>\n",
       "      <td>False</td>\n",
       "      <td>True</td>\n",
       "      <td>False</td>\n",
       "      <td>False</td>\n",
       "      <td>False</td>\n",
       "      <td>...</td>\n",
       "      <td>True</td>\n",
       "      <td>True</td>\n",
       "      <td>True</td>\n",
       "      <td>False</td>\n",
       "      <td>False</td>\n",
       "      <td>False</td>\n",
       "      <td>False</td>\n",
       "      <td>False</td>\n",
       "      <td>False</td>\n",
       "      <td>True</td>\n",
       "    </tr>\n",
       "    <tr>\n",
       "      <th>19103</th>\n",
       "      <td>False</td>\n",
       "      <td>False</td>\n",
       "      <td>False</td>\n",
       "      <td>False</td>\n",
       "      <td>False</td>\n",
       "      <td>False</td>\n",
       "      <td>False</td>\n",
       "      <td>False</td>\n",
       "      <td>False</td>\n",
       "      <td>False</td>\n",
       "      <td>...</td>\n",
       "      <td>True</td>\n",
       "      <td>True</td>\n",
       "      <td>True</td>\n",
       "      <td>False</td>\n",
       "      <td>False</td>\n",
       "      <td>False</td>\n",
       "      <td>False</td>\n",
       "      <td>False</td>\n",
       "      <td>False</td>\n",
       "      <td>True</td>\n",
       "    </tr>\n",
       "    <tr>\n",
       "      <th>19104</th>\n",
       "      <td>False</td>\n",
       "      <td>False</td>\n",
       "      <td>False</td>\n",
       "      <td>False</td>\n",
       "      <td>False</td>\n",
       "      <td>False</td>\n",
       "      <td>True</td>\n",
       "      <td>False</td>\n",
       "      <td>False</td>\n",
       "      <td>False</td>\n",
       "      <td>...</td>\n",
       "      <td>True</td>\n",
       "      <td>True</td>\n",
       "      <td>True</td>\n",
       "      <td>False</td>\n",
       "      <td>False</td>\n",
       "      <td>False</td>\n",
       "      <td>False</td>\n",
       "      <td>False</td>\n",
       "      <td>False</td>\n",
       "      <td>True</td>\n",
       "    </tr>\n",
       "  </tbody>\n",
       "</table>\n",
       "<p>76716 rows × 74 columns</p>\n",
       "</div>"
      ],
      "text/plain": [
       "          id  listing_url  scrape_id  last_scraped   name  description  \\\n",
       "0      False        False      False         False  False        False   \n",
       "1      False        False      False         False  False        False   \n",
       "2      False        False      False         False  False        False   \n",
       "3      False        False      False         False  False        False   \n",
       "4      False        False      False         False  False        False   \n",
       "...      ...          ...        ...           ...    ...          ...   \n",
       "19100  False        False      False         False  False        False   \n",
       "19101  False        False      False         False  False        False   \n",
       "19102  False        False      False         False  False        False   \n",
       "19103  False        False      False         False  False        False   \n",
       "19104  False        False      False         False  False        False   \n",
       "\n",
       "       neighborhood_overview  picture_url  host_id  host_url  ...  \\\n",
       "0                      False        False    False     False  ...   \n",
       "1                      False        False    False     False  ...   \n",
       "2                       True        False    False     False  ...   \n",
       "3                      False        False    False     False  ...   \n",
       "4                      False        False    False     False  ...   \n",
       "...                      ...          ...      ...       ...  ...   \n",
       "19100                   True        False    False     False  ...   \n",
       "19101                   True        False    False     False  ...   \n",
       "19102                   True        False    False     False  ...   \n",
       "19103                  False        False    False     False  ...   \n",
       "19104                   True        False    False     False  ...   \n",
       "\n",
       "       review_scores_communication  review_scores_location  \\\n",
       "0                            False                   False   \n",
       "1                            False                   False   \n",
       "2                            False                   False   \n",
       "3                            False                   False   \n",
       "4                            False                   False   \n",
       "...                            ...                     ...   \n",
       "19100                         True                    True   \n",
       "19101                         True                    True   \n",
       "19102                         True                    True   \n",
       "19103                         True                    True   \n",
       "19104                         True                    True   \n",
       "\n",
       "       review_scores_value  license  instant_bookable  \\\n",
       "0                    False     True             False   \n",
       "1                    False    False             False   \n",
       "2                    False    False             False   \n",
       "3                    False    False             False   \n",
       "4                    False    False             False   \n",
       "...                    ...      ...               ...   \n",
       "19100                 True    False             False   \n",
       "19101                 True    False             False   \n",
       "19102                 True    False             False   \n",
       "19103                 True    False             False   \n",
       "19104                 True    False             False   \n",
       "\n",
       "       calculated_host_listings_count  \\\n",
       "0                               False   \n",
       "1                               False   \n",
       "2                               False   \n",
       "3                               False   \n",
       "4                               False   \n",
       "...                               ...   \n",
       "19100                           False   \n",
       "19101                           False   \n",
       "19102                           False   \n",
       "19103                           False   \n",
       "19104                           False   \n",
       "\n",
       "       calculated_host_listings_count_entire_homes  \\\n",
       "0                                            False   \n",
       "1                                            False   \n",
       "2                                            False   \n",
       "3                                            False   \n",
       "4                                            False   \n",
       "...                                            ...   \n",
       "19100                                        False   \n",
       "19101                                        False   \n",
       "19102                                        False   \n",
       "19103                                        False   \n",
       "19104                                        False   \n",
       "\n",
       "       calculated_host_listings_count_private_rooms  \\\n",
       "0                                             False   \n",
       "1                                             False   \n",
       "2                                             False   \n",
       "3                                             False   \n",
       "4                                             False   \n",
       "...                                             ...   \n",
       "19100                                         False   \n",
       "19101                                         False   \n",
       "19102                                         False   \n",
       "19103                                         False   \n",
       "19104                                         False   \n",
       "\n",
       "       calculated_host_listings_count_shared_rooms  reviews_per_month  \n",
       "0                                            False              False  \n",
       "1                                            False              False  \n",
       "2                                            False              False  \n",
       "3                                            False              False  \n",
       "4                                            False              False  \n",
       "...                                            ...                ...  \n",
       "19100                                        False               True  \n",
       "19101                                        False               True  \n",
       "19102                                        False               True  \n",
       "19103                                        False               True  \n",
       "19104                                        False               True  \n",
       "\n",
       "[76716 rows x 74 columns]"
      ]
     },
     "execution_count": 10,
     "metadata": {},
     "output_type": "execute_result"
    }
   ],
   "source": [
    "df1234.isnull()"
   ]
  },
  {
   "cell_type": "code",
   "execution_count": 11,
   "id": "ff29f121",
   "metadata": {},
   "outputs": [
    {
     "data": {
      "text/plain": [
       "id                                              False\n",
       "listing_url                                     False\n",
       "scrape_id                                       False\n",
       "last_scraped                                    False\n",
       "name                                             True\n",
       "                                                ...  \n",
       "calculated_host_listings_count                  False\n",
       "calculated_host_listings_count_entire_homes     False\n",
       "calculated_host_listings_count_private_rooms    False\n",
       "calculated_host_listings_count_shared_rooms     False\n",
       "reviews_per_month                                True\n",
       "Length: 74, dtype: bool"
      ]
     },
     "execution_count": 11,
     "metadata": {},
     "output_type": "execute_result"
    }
   ],
   "source": [
    "df1234.isna().any()"
   ]
  },
  {
   "cell_type": "code",
   "execution_count": 12,
   "id": "0976dfcb",
   "metadata": {},
   "outputs": [
    {
     "data": {
      "text/plain": [
       "id                                                  0\n",
       "listing_url                                         0\n",
       "scrape_id                                           0\n",
       "last_scraped                                        0\n",
       "name                                               37\n",
       "                                                ...  \n",
       "calculated_host_listings_count                      0\n",
       "calculated_host_listings_count_entire_homes         0\n",
       "calculated_host_listings_count_private_rooms        0\n",
       "calculated_host_listings_count_shared_rooms         0\n",
       "reviews_per_month                               12510\n",
       "Length: 74, dtype: int64"
      ]
     },
     "execution_count": 12,
     "metadata": {},
     "output_type": "execute_result"
    }
   ],
   "source": [
    "df1234.isna().sum()"
   ]
  },
  {
   "cell_type": "code",
   "execution_count": 13,
   "id": "1c1df187",
   "metadata": {},
   "outputs": [
    {
     "data": {
      "text/plain": [
       "0         4\n",
       "1         2\n",
       "2         4\n",
       "3         3\n",
       "4         2\n",
       "         ..\n",
       "19100    16\n",
       "19101    18\n",
       "19102    15\n",
       "19103    14\n",
       "19104    14\n",
       "Length: 76716, dtype: int64"
      ]
     },
     "execution_count": 13,
     "metadata": {},
     "output_type": "execute_result"
    }
   ],
   "source": [
    "df1234.isna().sum(axis=1)"
   ]
  },
  {
   "cell_type": "code",
   "execution_count": 14,
   "id": "0b162230",
   "metadata": {
    "scrolled": true
   },
   "outputs": [
    {
     "data": {
      "text/plain": [
       "['id',\n",
       " 'listing_url',\n",
       " 'scrape_id',\n",
       " 'last_scraped',\n",
       " 'name',\n",
       " 'description',\n",
       " 'neighborhood_overview',\n",
       " 'picture_url',\n",
       " 'host_id',\n",
       " 'host_url',\n",
       " 'host_name',\n",
       " 'host_since',\n",
       " 'host_location',\n",
       " 'host_about',\n",
       " 'host_response_time',\n",
       " 'host_response_rate',\n",
       " 'host_acceptance_rate',\n",
       " 'host_is_superhost',\n",
       " 'host_thumbnail_url',\n",
       " 'host_picture_url',\n",
       " 'host_neighbourhood',\n",
       " 'host_listings_count',\n",
       " 'host_total_listings_count',\n",
       " 'host_verifications',\n",
       " 'host_has_profile_pic',\n",
       " 'host_identity_verified',\n",
       " 'neighbourhood',\n",
       " 'neighbourhood_cleansed',\n",
       " 'neighbourhood_group_cleansed',\n",
       " 'latitude',\n",
       " 'longitude',\n",
       " 'property_type',\n",
       " 'room_type',\n",
       " 'accommodates',\n",
       " 'bathrooms',\n",
       " 'bathrooms_text',\n",
       " 'bedrooms',\n",
       " 'beds',\n",
       " 'amenities',\n",
       " 'price',\n",
       " 'minimum_nights',\n",
       " 'maximum_nights',\n",
       " 'minimum_minimum_nights',\n",
       " 'maximum_minimum_nights',\n",
       " 'minimum_maximum_nights',\n",
       " 'maximum_maximum_nights',\n",
       " 'minimum_nights_avg_ntm',\n",
       " 'maximum_nights_avg_ntm',\n",
       " 'calendar_updated',\n",
       " 'has_availability',\n",
       " 'availability_30',\n",
       " 'availability_60',\n",
       " 'availability_90',\n",
       " 'availability_365',\n",
       " 'calendar_last_scraped',\n",
       " 'number_of_reviews',\n",
       " 'number_of_reviews_ltm',\n",
       " 'number_of_reviews_l30d',\n",
       " 'first_review',\n",
       " 'last_review',\n",
       " 'review_scores_rating',\n",
       " 'review_scores_accuracy',\n",
       " 'review_scores_cleanliness',\n",
       " 'review_scores_checkin',\n",
       " 'review_scores_communication',\n",
       " 'review_scores_location',\n",
       " 'review_scores_value',\n",
       " 'license',\n",
       " 'instant_bookable',\n",
       " 'calculated_host_listings_count',\n",
       " 'calculated_host_listings_count_entire_homes',\n",
       " 'calculated_host_listings_count_private_rooms',\n",
       " 'calculated_host_listings_count_shared_rooms',\n",
       " 'reviews_per_month']"
      ]
     },
     "execution_count": 14,
     "metadata": {},
     "output_type": "execute_result"
    }
   ],
   "source": [
    "list(df1234.columns)"
   ]
  },
  {
   "cell_type": "code",
   "execution_count": 15,
   "id": "a6c5d896",
   "metadata": {},
   "outputs": [
    {
     "name": "stdout",
     "output_type": "stream",
     "text": [
      "id : 23662\n",
      "listing_url : 23662\n",
      "scrape_id : 4\n",
      "last_scraped : 26\n",
      "name : 24481\n",
      "description : 24699\n",
      "neighborhood_overview : 11634\n",
      "picture_url : 25279\n",
      "host_id : 9830\n",
      "host_url : 9830\n",
      "host_name : 3768\n",
      "host_since : 3296\n",
      "host_location : 1045\n",
      "host_about : 5164\n",
      "host_response_time : 4\n",
      "host_response_rate : 76\n",
      "host_acceptance_rate : 97\n",
      "host_is_superhost : 2\n",
      "host_thumbnail_url : 10606\n",
      "host_picture_url : 10606\n",
      "host_neighbourhood : 162\n",
      "host_listings_count : 154\n",
      "host_total_listings_count : 154\n",
      "host_verifications : 327\n",
      "host_has_profile_pic : 2\n",
      "host_identity_verified : 2\n",
      "neighbourhood : 551\n",
      "neighbourhood_cleansed : 129\n",
      "neighbourhood_group_cleansed : 16\n",
      "latitude : 11027\n",
      "longitude : 13054\n",
      "property_type : 106\n",
      "room_type : 4\n",
      "accommodates : 17\n",
      "bathrooms : 0\n",
      "bathrooms_text : 54\n",
      "bedrooms : 20\n",
      "beds : 35\n",
      "amenities : 71480\n",
      "price : 740\n",
      "minimum_nights : 65\n",
      "maximum_nights : 206\n",
      "minimum_minimum_nights : 70\n",
      "maximum_minimum_nights : 78\n",
      "minimum_maximum_nights : 191\n",
      "maximum_maximum_nights : 199\n",
      "minimum_nights_avg_ntm : 351\n",
      "maximum_nights_avg_ntm : 2703\n",
      "calendar_updated : 0\n",
      "has_availability : 2\n",
      "availability_30 : 31\n",
      "availability_60 : 61\n",
      "availability_90 : 91\n",
      "availability_365 : 366\n",
      "calendar_last_scraped : 26\n",
      "number_of_reviews : 539\n",
      "number_of_reviews_ltm : 123\n",
      "number_of_reviews_l30d : 29\n",
      "first_review : 3202\n",
      "last_review : 2044\n",
      "review_scores_rating : 220\n",
      "review_scores_accuracy : 158\n",
      "review_scores_cleanliness : 190\n",
      "review_scores_checkin : 179\n",
      "review_scores_communication : 163\n",
      "review_scores_location : 161\n",
      "review_scores_value : 173\n",
      "license : 13994\n",
      "instant_bookable : 2\n",
      "calculated_host_listings_count : 82\n",
      "calculated_host_listings_count_entire_homes : 77\n",
      "calculated_host_listings_count_private_rooms : 35\n",
      "calculated_host_listings_count_shared_rooms : 14\n",
      "reviews_per_month : 799\n"
     ]
    }
   ],
   "source": [
    "for column in df1234.columns:\n",
    "    print(f'{column} : {df1234[column].nunique()}')"
   ]
  },
  {
   "cell_type": "code",
   "execution_count": 16,
   "id": "2b97edaf",
   "metadata": {},
   "outputs": [],
   "source": [
    "df1234['first_review'] = pd.to_datetime(df1234['first_review'], errors='coerce')  # This will turn unparseable strings into NaT"
   ]
  },
  {
   "cell_type": "code",
   "execution_count": 17,
   "id": "52f14ad1",
   "metadata": {},
   "outputs": [
    {
     "data": {
      "text/plain": [
       "0        2014.0\n",
       "1        2014.0\n",
       "2        2011.0\n",
       "3        2012.0\n",
       "4        2011.0\n",
       "          ...  \n",
       "19100       NaN\n",
       "19101       NaN\n",
       "19102       NaN\n",
       "19103       NaN\n",
       "19104       NaN\n",
       "Name: first_review_year, Length: 76716, dtype: float64"
      ]
     },
     "metadata": {},
     "output_type": "display_data"
    }
   ],
   "source": [
    "df1234['first_review_year'] = df1234['first_review'].dt.year\n",
    "display(df1234['first_review_year'])"
   ]
  },
  {
   "cell_type": "code",
   "execution_count": 18,
   "id": "68c7fa9b",
   "metadata": {},
   "outputs": [],
   "source": [
    "df_clean = df1234.dropna(subset=['first_review_year'])"
   ]
  },
  {
   "cell_type": "code",
   "execution_count": 19,
   "id": "c670eb55",
   "metadata": {},
   "outputs": [
    {
     "data": {
      "text/plain": [
       "0        2014.0\n",
       "1        2014.0\n",
       "2        2011.0\n",
       "3        2012.0\n",
       "4        2011.0\n",
       "          ...  \n",
       "19100    2019.0\n",
       "19101    2019.0\n",
       "19102    2019.0\n",
       "19103    2019.0\n",
       "19104    2019.0\n",
       "Name: first_review_year, Length: 76716, dtype: float64"
      ]
     },
     "metadata": {},
     "output_type": "display_data"
    }
   ],
   "source": [
    "mode = df1234['first_review_year'].mode()[0]\n",
    "df1234['first_review_year'].fillna(mode, inplace=True)\n",
    "display(df1234['first_review_year'])"
   ]
  },
  {
   "cell_type": "code",
   "execution_count": 20,
   "id": "c251ba8b",
   "metadata": {},
   "outputs": [
    {
     "data": {
      "text/plain": [
       "first_review_year\n",
       "2010.0        2\n",
       "2011.0      111\n",
       "2012.0      500\n",
       "2013.0     1301\n",
       "2014.0     2774\n",
       "2015.0     5047\n",
       "2016.0     7723\n",
       "2017.0     9780\n",
       "2018.0    12431\n",
       "2019.0    13330\n",
       "2020.0     6054\n",
       "2021.0     5153\n",
       "Name: count, dtype: int64"
      ]
     },
     "metadata": {},
     "output_type": "display_data"
    }
   ],
   "source": [
    "#\n",
    "#\n",
    "#I need to create a graphic that summarizes the year and includes the first review\n",
    "#\n",
    "#\n",
    "yearly_counts = df_clean['first_review_year'].value_counts().sort_index()\n",
    "display(yearly_counts)"
   ]
  },
  {
   "cell_type": "code",
   "execution_count": 21,
   "id": "4d7f0499",
   "metadata": {},
   "outputs": [
    {
     "name": "stdout",
     "output_type": "stream",
     "text": [
      "Requirement already satisfied: pandas in /Users/hugogomes/anaconda3/lib/python3.11/site-packages (2.0.3)\n",
      "Requirement already satisfied: matplotlib in /Users/hugogomes/anaconda3/lib/python3.11/site-packages (3.7.2)\n",
      "Requirement already satisfied: seaborn in /Users/hugogomes/anaconda3/lib/python3.11/site-packages (0.12.2)\n",
      "Requirement already satisfied: python-dateutil>=2.8.2 in /Users/hugogomes/anaconda3/lib/python3.11/site-packages (from pandas) (2.8.2)\n",
      "Requirement already satisfied: pytz>=2020.1 in /Users/hugogomes/anaconda3/lib/python3.11/site-packages (from pandas) (2023.3.post1)\n",
      "Requirement already satisfied: tzdata>=2022.1 in /Users/hugogomes/anaconda3/lib/python3.11/site-packages (from pandas) (2023.3)\n",
      "Requirement already satisfied: numpy>=1.21.0 in /Users/hugogomes/anaconda3/lib/python3.11/site-packages (from pandas) (1.24.3)\n",
      "Requirement already satisfied: contourpy>=1.0.1 in /Users/hugogomes/anaconda3/lib/python3.11/site-packages (from matplotlib) (1.0.5)\n",
      "Requirement already satisfied: cycler>=0.10 in /Users/hugogomes/anaconda3/lib/python3.11/site-packages (from matplotlib) (0.11.0)\n",
      "Requirement already satisfied: fonttools>=4.22.0 in /Users/hugogomes/anaconda3/lib/python3.11/site-packages (from matplotlib) (4.25.0)\n",
      "Requirement already satisfied: kiwisolver>=1.0.1 in /Users/hugogomes/anaconda3/lib/python3.11/site-packages (from matplotlib) (1.4.4)\n",
      "Requirement already satisfied: packaging>=20.0 in /Users/hugogomes/anaconda3/lib/python3.11/site-packages (from matplotlib) (23.1)\n",
      "Requirement already satisfied: pillow>=6.2.0 in /Users/hugogomes/anaconda3/lib/python3.11/site-packages (from matplotlib) (10.0.1)\n",
      "Requirement already satisfied: pyparsing<3.1,>=2.3.1 in /Users/hugogomes/anaconda3/lib/python3.11/site-packages (from matplotlib) (3.0.9)\n",
      "Requirement already satisfied: six>=1.5 in /Users/hugogomes/anaconda3/lib/python3.11/site-packages (from python-dateutil>=2.8.2->pandas) (1.16.0)\n",
      "Requirement already satisfied: statsmodels in /Users/hugogomes/anaconda3/lib/python3.11/site-packages (0.14.0)\n",
      "Requirement already satisfied: numpy>=1.18 in /Users/hugogomes/anaconda3/lib/python3.11/site-packages (from statsmodels) (1.24.3)\n",
      "Requirement already satisfied: scipy!=1.9.2,>=1.4 in /Users/hugogomes/anaconda3/lib/python3.11/site-packages (from statsmodels) (1.11.1)\n",
      "Requirement already satisfied: pandas>=1.0 in /Users/hugogomes/anaconda3/lib/python3.11/site-packages (from statsmodels) (2.0.3)\n",
      "Requirement already satisfied: patsy>=0.5.2 in /Users/hugogomes/anaconda3/lib/python3.11/site-packages (from statsmodels) (0.5.3)\n",
      "Requirement already satisfied: packaging>=21.3 in /Users/hugogomes/anaconda3/lib/python3.11/site-packages (from statsmodels) (23.1)\n",
      "Requirement already satisfied: python-dateutil>=2.8.2 in /Users/hugogomes/anaconda3/lib/python3.11/site-packages (from pandas>=1.0->statsmodels) (2.8.2)\n",
      "Requirement already satisfied: pytz>=2020.1 in /Users/hugogomes/anaconda3/lib/python3.11/site-packages (from pandas>=1.0->statsmodels) (2023.3.post1)\n",
      "Requirement already satisfied: tzdata>=2022.1 in /Users/hugogomes/anaconda3/lib/python3.11/site-packages (from pandas>=1.0->statsmodels) (2023.3)\n",
      "Requirement already satisfied: six in /Users/hugogomes/anaconda3/lib/python3.11/site-packages (from patsy>=0.5.2->statsmodels) (1.16.0)\n"
     ]
    }
   ],
   "source": [
    "!pip install pandas matplotlib seaborn\n",
    "import pandas as pd\n",
    "import matplotlib.pyplot as plt\n",
    "import seaborn as sns\n",
    "!pip install statsmodels\n",
    "import statsmodels.api as sm"
   ]
  },
  {
   "cell_type": "code",
   "execution_count": 22,
   "id": "d24564da",
   "metadata": {},
   "outputs": [
    {
     "data": {
      "image/png": "[encoded data removed]",
      "text/plain": [
       "<Figure size 1000x600 with 1 Axes>"
      ]
     },
     "metadata": {},
     "output_type": "display_data"
    }
   ],
   "source": [
    "df1234['first_review_year'] = df1234['first_review_year'].dropna().astype(int)\n",
    "\n",
    "first_review_year_counts = df1234['first_review_year'].value_counts().sort_index()\n",
    "\n",
    "\n",
    "plt.figure(figsize=(10, 6))\n",
    "sns.barplot(x=first_review_year_counts.index, y=first_review_year_counts.values)\n",
    "plt.xlabel('Year')\n",
    "plt.ylabel('Number of Listings')\n",
    "plt.title('Number of Listings by First Review Year')\n",
    "plt.xticks(rotation=45)\n",
    "plt.show()\n"
   ]
  },
  {
   "cell_type": "markdown",
   "id": "63c1c8a9",
   "metadata": {},
   "source": [
    "The bar plot illustrates the number of Airbnb listings in Lisbon based on the year they received their first review, spanning from 2010 to 2021.\n",
    "\n",
    "The graph shows a clear increase in the number of listings from 2010 to 2019. Each year within this period saw a rise in new listings compared to the previous year, indicating a thriving and expanding market for Airbnb in Lisbon.\n",
    "\n",
    "The peak of this growth occurred in 2019, when the highest number of listings received their first review. This suggests that Airbnb's popularity and market penetration in Lisbon reached its peak in 2019.\n",
    "\n",
    "A noticeable decline in the number of listings is observed in 2020, with the number of new listings almost halved compared to 2019. This decline is likely due to the COVID-19 pandemic.\n",
    "\n",
    "The number of listings seems to have stabilized in 2021, with only a slight decline compared to 2020, but not as drastic as the previous year's drop. This could suggest that the market is beginning to adapt to the new conditions brought about by the pandemic.\n",
    "\n",
    "From 2010 to 2013, the number of listings was relatively low, which is typical for a new market. However, as awareness and adoption of Airbnb increased, so did the number of listings."
   ]
  },
  {
   "cell_type": "code",
   "execution_count": 23,
   "id": "a24e2424",
   "metadata": {},
   "outputs": [
    {
     "data": {
      "text/plain": [
       "array(['2009-04-22', '2010-04-12', '2010-05-16', ..., '2021-06-17',\n",
       "       '2021-03-18', '2021-08-11'], dtype=object)"
      ]
     },
     "execution_count": 23,
     "metadata": {},
     "output_type": "execute_result"
    }
   ],
   "source": [
    "df1234['host_since'].unique()"
   ]
  },
  {
   "cell_type": "code",
   "execution_count": 24,
   "id": "391b3122",
   "metadata": {},
   "outputs": [
    {
     "data": {
      "text/plain": [
       "array(['f', 't', nan], dtype=object)"
      ]
     },
     "execution_count": 24,
     "metadata": {},
     "output_type": "execute_result"
    }
   ],
   "source": [
    "df1234['host_is_superhost'].unique()"
   ]
  },
  {
   "cell_type": "code",
   "execution_count": 25,
   "id": "c4b503e1",
   "metadata": {},
   "outputs": [],
   "source": [
    "df1234['host_since'] = pd.to_datetime(df1234['host_since'])"
   ]
  },
  {
   "cell_type": "code",
   "execution_count": 26,
   "id": "8a99b265",
   "metadata": {},
   "outputs": [],
   "source": [
    "df1234['host_is_superhost'] = df1234['host_is_superhost'].map({'t': True, 'f': False})"
   ]
  },
  {
   "cell_type": "code",
   "execution_count": 27,
   "id": "3307c443",
   "metadata": {},
   "outputs": [],
   "source": [
    "df1234['last_scraped'] = pd.to_datetime(df1234['last_scraped'])\n",
    "latest_date = df1234['last_scraped'].max()"
   ]
  },
  {
   "cell_type": "code",
   "execution_count": 28,
   "id": "021839da",
   "metadata": {},
   "outputs": [],
   "source": [
    "df1234['host_tenure'] = (latest_date - df1234['host_since']).dt.days"
   ]
  },
  {
   "cell_type": "code",
   "execution_count": 29,
   "id": "01f933ce",
   "metadata": {},
   "outputs": [
    {
     "data": {
      "text/plain": [
       "0        4623.0\n",
       "1        4268.0\n",
       "2        4234.0\n",
       "3        4233.0\n",
       "4        4231.0\n",
       "          ...  \n",
       "19100    1313.0\n",
       "19101      97.0\n",
       "19102    1507.0\n",
       "19103     143.0\n",
       "19104    3860.0\n",
       "Name: host_tenure, Length: 76716, dtype: float64"
      ]
     },
     "metadata": {},
     "output_type": "display_data"
    }
   ],
   "source": [
    "display (df1234['host_tenure'])"
   ]
  },
  {
   "cell_type": "code",
   "execution_count": 30,
   "id": "64fb5f7a",
   "metadata": {},
   "outputs": [],
   "source": [
    "df1234['host_tenure_years'] = (df1234['host_tenure'] / 365.25).round()\n",
    "\n",
    "median_tenure_years = df1234['host_tenure_years'].median()\n",
    "df1234['host_tenure_years'] = df1234['host_tenure_years'].fillna(median_tenure_years).astype(int)"
   ]
  },
  {
   "cell_type": "code",
   "execution_count": 31,
   "id": "399e1cda",
   "metadata": {},
   "outputs": [
    {
     "data": {
      "text/plain": [
       "0        13\n",
       "1        12\n",
       "2        12\n",
       "3        12\n",
       "4        12\n",
       "         ..\n",
       "19100     4\n",
       "19101     0\n",
       "19102     4\n",
       "19103     0\n",
       "19104    11\n",
       "Name: host_tenure_years, Length: 75797, dtype: int64"
      ]
     },
     "metadata": {},
     "output_type": "display_data"
    }
   ],
   "source": [
    "df1234['host_tenure_years'] = (df1234['host_tenure'] / 365.25).round()\n",
    "\n",
    "df1234 = df1234.dropna(subset=['host_tenure_years'])\n",
    "\n",
    "df1234['host_tenure_years'] = df1234['host_tenure_years'].astype(int)\n",
    "display(df1234['host_tenure_years'])"
   ]
  },
  {
   "cell_type": "code",
   "execution_count": 34,
   "id": "9452806f",
   "metadata": {},
   "outputs": [
    {
     "name": "stdout",
     "output_type": "stream",
     "text": [
      "count    75797.000000\n",
      "mean         5.713603\n",
      "std          2.545022\n",
      "min          0.000000\n",
      "25%          4.000000\n",
      "50%          6.000000\n",
      "75%          8.000000\n",
      "max         13.000000\n",
      "Name: host_tenure_years, dtype: float64\n"
     ]
    }
   ],
   "source": [
    "tenure_stats = df1234['host_tenure_years'].describe()\n",
    "print(tenure_stats)"
   ]
  },
  {
   "cell_type": "markdown",
   "id": "81152701",
   "metadata": {},
   "source": [
    "This column represents the number of years each host has been active on the Airbnb platform.\n",
    "\n",
    "After cleaning and processing the data, the dataset has a total of 75,797 records, which means we have the tenure data for 75,797 hosts.\n",
    "\n",
    "On average, hosts in Lisbon have been active on Airbnb for around 5.71 years.\n",
    "\n",
    "The standard deviation is approximately 2.55 years, which measures the variation or dispersion of host tenures from the mean. A higher standard deviation would indicate that the host tenures are more spread out over a broader range of years. Conversely, a lower standard deviation indicates that the tenures are more clustered around the mean. In this particular case, a standard deviation of 2.55 years suggests a moderate spread in how long hosts have been active.\n",
    "\n",
    "The minimum value is 0 years, indicating that some hosts are new to the platform (they started within the last year analyzed).\n",
    "\n",
    "25% of the hosts have been on Airbnb for four years or less.\n",
    "\n",
    "The median tenure is 6 years, meaning that half of the hosts have been active for 6 years or fewer, and the other half have been active for more than 6 years.\n",
    "\n",
    "75% of the hosts have been on Airbnb for 8 years or less.\n",
    "\n",
    "The maximum value is 13 years, which suggests that the most experienced host on the platform has been active for 13 years.\n",
    "\n",
    "In summary, the average host in Lisbon has been active on Airbnb for approximately 4 to 8 years, with a moderate variety in the tenure lengths, including both new and experienced hosts in the dataset."
   ]
  },
  {
   "cell_type": "code",
   "execution_count": 35,
   "id": "5536bcca",
   "metadata": {},
   "outputs": [
    {
     "data": {
      "image/png": "[encoded data removed]",
      "text/plain": [
       "<Figure size 640x480 with 1 Axes>"
      ]
     },
     "metadata": {},
     "output_type": "display_data"
    }
   ],
   "source": [
    "sns.histplot(df1234['host_tenure_years'], bins=30)\n",
    "plt.xlabel('Host Tenure (years)')\n",
    "plt.ylabel('Count')\n",
    "plt.title('Distribution of Host Tenure in Years')\n",
    "plt.show()"
   ]
  },
  {
   "cell_type": "markdown",
   "id": "967107e3",
   "metadata": {},
   "source": [
    "The histogram illustrates the distribution of host tenure in years for Airbnb hosts in Lisbon.\n",
    "\n",
    "The distribution has multiple peaks, with a notable peak around 6 years of tenure. This suggests that a significant number of hosts joined Airbnb approximately 6 years ago, based on the latest data point in the dataset.\n",
    "\n",
    "The distribution is right-skewed, with fewer hosts having a very long tenure (10-13 years). This is expected as fewer hosts would have joined Airbnb when it was a relatively new platform, founded in 2008.\n",
    "\n",
    "A small number of hosts with 0-2 years of tenure suggests either a slower rate of new hosts joining Airbnb in the past couple of years or that these hosts might have joined but not yet completed a full year at the time of data collection.\n",
    "\n",
    "The largest groups are hosts with 4-8 years of tenure, indicating a period of rapid growth for Airbnb in Lisbon during that time frame.\n",
    "\n",
    "There are relatively few hosts with more than 10 years of tenure, which aligns with Airbnb's global expansion history; naturally, there would be fewer hosts from the platform's early years.\n",
    "\n",
    "Most hosts have been on the platform for a significant amount of time, indicating that the Lisbon Airbnb market is quite mature with experienced hosts.\n",
    "\n",
    "This distribution can provide insights into market saturation and growth trends and inform strategies for engaging new vs. established hosts. It may also influence considerations for marketing and support programs tailored to different host tenure segments."
   ]
  },
  {
   "cell_type": "code",
   "execution_count": 36,
   "id": "95e83b76",
   "metadata": {},
   "outputs": [
    {
     "data": {
      "image/png": "[encoded data removed]",
      "text/plain": [
       "<Figure size 640x480 with 1 Axes>"
      ]
     },
     "metadata": {},
     "output_type": "display_data"
    }
   ],
   "source": [
    "sns.boxplot(x='host_is_superhost', y='host_tenure_years', data=df1234)\n",
    "plt.xlabel('Is Superhost')\n",
    "plt.ylabel('Host Tenure (years)')\n",
    "plt.title('Host Tenure by Superhost Status')\n",
    "plt.xticks([0, 1], ['Non-Superhost', 'Superhost'])\n",
    "plt.show()"
   ]
  },
  {
   "cell_type": "markdown",
   "id": "a6a7dcbf",
   "metadata": {},
   "source": [
    "The following is a comparison of the distribution of host tenure between Airbnb superhosts and non-superhosts using a box plot.\n",
    "\n",
    "The median tenure is slightly higher for superhosts than non-superhosts, indicating that superhosts have been active on the platform for a longer period of time.\n",
    "\n",
    "The Interquartile Range is wider for non-superhosts, which suggests a wider spread of tenure within this group. However, superhosts have a narrower Interquartile Range, meaning that their tenure lengths are more consistently clustered around the median.\n",
    "\n",
    "Both superhosts and non-superhosts have a wide range of tenure, but non-superhosts show a slightly broader range. This implies that there are non-superhosts who have been on the platform for very short and very long periods.\n",
    "\n",
    "Overall, superhosts tend to have longer tenure on Airbnb. This could be related to achieving superhost status requiring a certain level of experience and consistent hosting performance, which might naturally correlate with time spent on the platform.\n",
    "\n",
    "While superhosts generally have been hosting for longer, tenure is not the only factor in achieving superhost status."
   ]
  },
  {
   "cell_type": "code",
   "execution_count": 40,
   "id": "6c34e8dd",
   "metadata": {},
   "outputs": [
    {
     "data": {
      "image/png": "[encoded data removed]",
      "text/plain": [
       "<Figure size 640x480 with 1 Axes>"
      ]
     },
     "metadata": {},
     "output_type": "display_data"
    }
   ],
   "source": [
    "host_growth_by_year = df1234.groupby('host_tenure_years').size()\n",
    "host_growth_by_year.plot(kind='line')\n",
    "plt.xlabel('Years Since Becoming Host')\n",
    "plt.ylabel('Number of Hosts')\n",
    "plt.title('Growth of Airbnb Hosts Over Time')\n",
    "plt.show()"
   ]
  },
  {
   "cell_type": "markdown",
   "id": "834bb041",
   "metadata": {},
   "source": [
    "The line graph depicts the growth of Airbnb hosts over time, with the number of years since they first became a host on the platform being used as the measure. \n",
    "\n",
    "During the early years, there was a steady and rapid increase in the number of hosts, indicating that Airbnb was gaining popularity and becoming more prevalent in the analyzed location. \n",
    "\n",
    "The graph shows a peak at approximately 6 years since becoming a host, indicating that this was the time when most hosts joined the platform. This could be attributed to a variety of factors, such as increased popularity, significant market events, or targeted promotions. \n",
    "\n",
    "After reaching the peak, there was a sharp decline in the number of hosts who had been on the platform for more than 6 years. This could be due to a decrease in new sign-ups after a boom period or a natural drop-off as hosts left the platform for various reasons, such as market saturation, increased competition, changes in local regulations, or personal choices. \n",
    "\n",
    "The number of hosts who remained on the platform for the longest period (10 to 12+ years) was relatively small, as this category only included early adopters. \n",
    "\n",
    "It is difficult to determine the specific reason for the decline after the peak without additional context or data. The decline could be the result of recent global events like the COVID-19 pandemic affecting travel and accommodation businesses, or it could reflect changes in Airbnb's market dynamics or user base over time."
   ]
  },
  {
   "cell_type": "code",
   "execution_count": 41,
   "id": "f15b252c",
   "metadata": {},
   "outputs": [
    {
     "name": "stdout",
     "output_type": "stream",
     "text": [
      "host_is_superhost\n",
      "False    25.627430\n",
      "True     27.316994\n",
      "Name: review_scores_rating, dtype: float64\n"
     ]
    }
   ],
   "source": [
    "average_scores = df1234.groupby('host_is_superhost')['review_scores_rating'].mean()\n",
    "print(average_scores)"
   ]
  },
  {
   "cell_type": "markdown",
   "id": "74c5ce1a",
   "metadata": {},
   "source": [
    "The output we are seeing is the result of calculating the mean review_scores_rating grouped by host_is_superhost status. It shows the average review score rating for two categories: hosts who are not superhosts (False) and hosts who are superhosts (True).\n",
    "\n",
    "Hosts who are not superhosts have an average review score rating of approximately 25.63.\n",
    "Hosts who are superhosts have an average review score rating of approximately 27.32.\n",
    "\n",
    "This suggests that, on average, superhosts have higher review scores than non-superhosts. Superhosts are typically characterized by providing exceptional service, being very responsive, and maintaining high overall guest satisfaction, which can translate into higher review scores.\n"
   ]
  },
  {
   "cell_type": "code",
   "execution_count": 43,
   "id": "f662dbf2",
   "metadata": {},
   "outputs": [
    {
     "data": {
      "text/plain": [
       "array([  4.5 ,   4.81,   4.56,   4.8 ,   4.92,   4.68,   5.  ,   4.39,\n",
       "         4.44,   4.24,   4.94,   4.52,    nan,   4.62,   4.65,   4.74,\n",
       "         4.49,   4.7 ,   4.19,   4.73,   4.87,   4.37,   4.57,   4.64,\n",
       "         4.25,   4.  ,   4.76,   4.78,   4.84,   4.07,   4.63,   4.72,\n",
       "         4.85,   4.95,   4.67,   4.43,   4.75,   4.45,   4.93,   4.51,\n",
       "         4.89,   4.54,   4.58,   4.98,   4.42,   4.83,   4.66,   4.88,\n",
       "         4.69,   4.28,   4.17,   4.09,   4.55,   4.91,   3.67,   4.22,\n",
       "         4.77,   4.16,   4.59,   4.79,   4.53,   4.71,   4.9 ,   4.82,\n",
       "         4.18,   4.6 ,   4.61,   3.25,   4.3 ,   4.4 ,   4.38,   4.47,\n",
       "         3.  ,   4.35,   4.31,   4.86,   4.27,   4.29,   4.48,   3.88,\n",
       "         4.14,   4.96,   4.46,   4.33,   3.98,   4.41,   4.34,   4.36,\n",
       "         4.13,   2.67,   4.2 ,   3.5 ,   4.15,   4.97,   3.75,   4.32,\n",
       "         4.1 ,   4.26,   2.  ,   4.12,   1.  ,   3.4 ,   4.23,   3.8 ,\n",
       "         3.86,   4.99,   0.  ,   3.33,   3.57,   4.21,   4.08,   3.29,\n",
       "         3.89,   3.82,   4.02,   3.83,   3.6 ,   3.95,   4.05,   3.63,\n",
       "         4.04,   3.64,   3.7 ,   4.03,   4.11,   2.5 ,   3.43,   2.43,\n",
       "         3.9 ,   3.96,   1.8 ,   3.93,   4.06,   2.33,   3.71,   3.92,\n",
       "         3.54,   3.94,   3.97,   1.67,   3.62,   1.5 ,   3.78,   3.85,\n",
       "         3.11,   3.81,   2.75,   3.58,   3.17,   3.2 ,   2.86,   3.18,\n",
       "         3.42,   3.15,   3.68,   3.56,   3.73,   3.14,   3.72,   3.76,\n",
       "         3.91,   3.44,  91.  ,  96.  ,  94.  , 100.  ,  88.  ,  85.  ,\n",
       "        90.  ,  93.  ,  92.  ,  87.  ,  95.  ,  83.  ,  89.  ,  82.  ,\n",
       "        97.  ,  99.  ,  98.  ,  86.  ,  84.  ,  81.  ,  60.  ,  70.  ,\n",
       "        75.  ,  80.  ,  77.  ,  40.  ,  68.  ,  76.  ,  50.  ,  72.  ,\n",
       "        73.  ,  66.  ,  67.  ,  71.  ,  62.  ,  74.  ,  20.  ,  78.  ,\n",
       "        64.  ,  53.  ,  65.  ,  55.  ,  69.  ,  47.  ,  63.  ,  79.  ,\n",
       "        33.  ,  56.  ,  30.  ,  52.  ,  27.  ,   3.45,   3.79,   2.8 ,\n",
       "         2.25,   1.33,   3.38,   3.27,   3.77])"
      ]
     },
     "execution_count": 43,
     "metadata": {},
     "output_type": "execute_result"
    }
   ],
   "source": [
    "df1234['review_scores_rating'].unique()"
   ]
  },
  {
   "cell_type": "code",
   "execution_count": 49,
   "id": "695cf466",
   "metadata": {},
   "outputs": [],
   "source": [
    "def standardize_scores(score):\n",
    "    if score >= 5:\n",
    "        return score / 20\n",
    "    else:\n",
    "        return score\n",
    "\n",
    "df1234['review_scores_rating'] = df1234['review_scores_rating'].apply(standardize_scores)"
   ]
  },
  {
   "cell_type": "code",
   "execution_count": 50,
   "id": "86564b78",
   "metadata": {},
   "outputs": [
    {
     "data": {
      "text/plain": [
       "array([4.5 , 4.81, 4.56, 4.8 , 4.92, 4.68, 5.  , 4.39, 4.44, 4.24, 4.94,\n",
       "       4.52,  nan, 4.62, 4.65, 4.74, 4.49, 4.7 , 4.19, 4.73, 4.87, 4.37,\n",
       "       4.57, 4.64, 4.25, 4.  , 4.76, 4.78, 4.84, 4.07, 4.63, 4.72, 4.85,\n",
       "       4.95, 4.67, 4.43, 4.75, 4.45, 4.93, 4.51, 4.89, 4.54, 4.58, 4.98,\n",
       "       4.42, 4.83, 4.66, 4.88, 4.69, 4.28, 4.17, 4.09, 4.55, 4.91, 3.67,\n",
       "       4.22, 4.77, 4.16, 4.59, 4.79, 4.53, 4.71, 4.9 , 4.82, 4.18, 4.6 ,\n",
       "       4.61, 3.25, 4.3 , 4.4 , 4.38, 4.47, 3.  , 4.35, 4.31, 4.86, 4.27,\n",
       "       4.29, 4.48, 3.88, 4.14, 4.96, 4.46, 4.33, 3.98, 4.41, 4.34, 4.36,\n",
       "       4.13, 2.67, 4.2 , 3.5 , 4.15, 4.97, 3.75, 4.32, 4.1 , 4.26, 2.  ,\n",
       "       4.12, 1.  , 3.4 , 4.23, 3.8 , 3.86, 4.99, 0.  , 3.33, 3.57, 4.21,\n",
       "       4.08, 3.29, 3.89, 3.82, 4.02, 3.83, 3.6 , 3.95, 4.05, 3.63, 4.04,\n",
       "       3.64, 3.7 , 4.03, 4.11, 2.5 , 3.43, 2.43, 3.9 , 3.96, 1.8 , 3.93,\n",
       "       4.06, 2.33, 3.71, 3.92, 3.54, 3.94, 3.97, 1.67, 3.62, 1.5 , 3.78,\n",
       "       3.85, 3.11, 3.81, 2.75, 3.58, 3.17, 3.2 , 2.86, 3.18, 3.42, 3.15,\n",
       "       3.68, 3.56, 3.73, 3.14, 3.72, 3.76, 3.91, 3.44, 3.65, 3.3 , 3.35,\n",
       "       3.55, 3.1 , 2.65, 3.45, 2.35, 1.65, 2.8 , 2.6 , 1.35, 3.79, 2.25,\n",
       "       1.33, 3.38, 3.27, 3.77])"
      ]
     },
     "metadata": {},
     "output_type": "display_data"
    }
   ],
   "source": [
    "display (df1234['review_scores_rating'].unique())"
   ]
  },
  {
   "cell_type": "code",
   "execution_count": 52,
   "id": "ca0cc817",
   "metadata": {},
   "outputs": [
    {
     "data": {
      "text/plain": [
       "0"
      ]
     },
     "metadata": {},
     "output_type": "display_data"
    }
   ],
   "source": [
    "df1234 = df1234.dropna(subset=['review_scores_rating'])\n",
    "\n",
    "display(df1234['review_scores_rating'].isnull().sum())\n"
   ]
  },
  {
   "cell_type": "code",
   "execution_count": 56,
   "id": "ff894601",
   "metadata": {},
   "outputs": [
    {
     "data": {
      "image/png": "[encoded data removed]",
      "text/plain": [
       "<Figure size 640x480 with 2 Axes>"
      ]
     },
     "metadata": {},
     "output_type": "display_data"
    }
   ],
   "source": [
    "correlation_matrix = df1234[['host_tenure_years', 'review_scores_rating']].corr()\n",
    "\n",
    "sns.heatmap(correlation_matrix, annot=True)\n",
    "plt.title('Correlation between Host Tenure and Review Scores')\n",
    "plt.show()\n"
   ]
  },
  {
   "cell_type": "markdown",
   "id": "e771f384",
   "metadata": {},
   "source": [
    "The following text discusses the correlation between two variables, host tenure (the number of years a host has been active on Airbnb) and review scores. The correlation coefficient between these two variables is 0.016. \n",
    "\n",
    "A correlation coefficient of 0.016 is considered to be very close to zero, indicating that there is virtually no linear relationship between the length of time a host has been active on Airbnb and their review scores. This means that tenure does not significantly affect a host's review scores, at least not in a linearly predictable manner. \n",
    "\n",
    "It's important to note that other factors are likely to have a more significant impact on review scores. These factors could include the quality of the listing, the accuracy of the description, the cleanliness of the space, the experience guests have during their stay, and the host's attentiveness and communication. \n",
    "\n",
    "When interpreting correlation coefficients, it's essential to remember that they only measure linear relationships. There's a possibility that two variables might have a non-linear relationship that a Pearson correlation coefficient would not capture. Additionally, a lack of correlation does not necessarily mean there's no relationship. It just means that there's no linear relationship detectable by this particular statistical measure. \n",
    "\n",
    "This finding implies that while experience might be valuable for Airbnb hosts and the platform itself, it doesn't guarantee better reviews. Therefore, ongoing efforts to maintain and improve quality are crucial regardless of how long someone has been hosting."
   ]
  },
  {
   "cell_type": "code",
   "execution_count": 57,
   "id": "5c5817a1",
   "metadata": {},
   "outputs": [
    {
     "name": "stdout",
     "output_type": "stream",
     "text": [
      "Spearman Correlation: -0.0758636945799659\n"
     ]
    }
   ],
   "source": [
    "spearman_corr = df1234['host_tenure_years'].corr(df1234['review_scores_rating'], method='spearman')\n",
    "print(f\"Spearman Correlation: {spearman_corr}\")"
   ]
  },
  {
   "cell_type": "markdown",
   "id": "3693e3ec",
   "metadata": {},
   "source": [
    "The Spearman correlation coefficient is approximately -0.076, which suggests a very weak inverse monotonic relationship between host_tenure_years and review_scores_rating. In other words, as the tenure of the host increases slightly, there is a very slight tendency for review scores to decrease, or vice versa. However, the correlation is so weak that it's not particularly meaningful or indicative of a strong relationship.\n",
    "\n",
    "This means that host tenure is not a reliable predictor of review scores. There might be other factors that significantly affect review scores, such as the quality of the listing, the accuracy of the description, the communication skills of the host, or the location of the property, among others."
   ]
  },
  {
   "cell_type": "code",
   "execution_count": 61,
   "id": "5a3c4572",
   "metadata": {},
   "outputs": [
    {
     "data": {
      "text/plain": [
       "array(['Entire home/apt', 'Private room', 'Shared room', 'Hotel room'],\n",
       "      dtype=object)"
      ]
     },
     "execution_count": 61,
     "metadata": {},
     "output_type": "execute_result"
    }
   ],
   "source": [
    "df1234['room_type'].unique()"
   ]
  },
  {
   "cell_type": "code",
   "execution_count": 62,
   "id": "25311320",
   "metadata": {},
   "outputs": [
    {
     "data": {
      "text/plain": [
       "0"
      ]
     },
     "metadata": {},
     "output_type": "display_data"
    }
   ],
   "source": [
    "display(df1234['room_type'].isnull().sum())"
   ]
  },
  {
   "cell_type": "code",
   "execution_count": 63,
   "id": "34659d9b",
   "metadata": {},
   "outputs": [
    {
     "data": {
      "image/png": "[encoded data removed]",
      "text/plain": [
       "<Figure size 640x480 with 1 Axes>"
      ]
     },
     "metadata": {},
     "output_type": "display_data"
    }
   ],
   "source": [
    "sns.boxplot(x='room_type', y='review_scores_rating', data=df1234)\n",
    "plt.title('Review Scores by Room Type')\n",
    "plt.show()"
   ]
  },
  {
   "cell_type": "markdown",
   "id": "61544f45",
   "metadata": {},
   "source": [
    "The box plot illustrates how review scores are distributed among different types of Airbnb rooms, such as Entire homes/apartments, Private rooms, Shared rooms, and Hotel rooms.\n",
    "\n",
    "The median score for all room types is above 4, implying high satisfaction levels across all categories. However, \"Entire home/apt\" has the highest median score, while \"Shared room\" has the lowest, though the difference isn't significant.\n",
    "\n",
    "The boxes in the plot represent the middle 50% of scores for each room type. It appears that \"Entire home/apt\" and \"Hotel room\" have a slightly narrower Interquartile Range than \"Private room\" and \"Shared room,\" indicating less variability in guest satisfaction within the former types.\n",
    "\n",
    "The dots below and above the boxes represent outliers, scores outside the typical range. All room types have outliers, with \"Private room\" and \"Shared room\" having more pronounced outlier scores on the lower end, indicating significantly lower guest satisfaction.\n",
    "\n",
    "The \"Entire home/apt\" and \"Hotel room\" types show higher consistency in guest satisfaction with fewer low-score outliers. This might indicate that these accommodations more reliably meet or exceed guest expectations.\n",
    "\n",
    "\"Entire home/apt\" has the most comprehensive range, suggesting more variation in scores, while \"Hotel room\" has the narrowest range, indicating more consistency.\n",
    "\n",
    "Overall, this plot suggests that while all room types generally receive good reviews, entire homes/apartments and hotel rooms tend to have a slightly higher and more consistent guest satisfaction rating than private and shared rooms. Shared rooms seem to have the most variability in guest satisfaction, as evidenced by the wider box and range of outliers."
   ]
  },
  {
   "cell_type": "code",
   "execution_count": 60,
   "id": "96002ea6",
   "metadata": {},
   "outputs": [
    {
     "data": {
      "image/png": "[encoded data removed]",
      "text/plain": [
       "<Figure size 640x480 with 1 Axes>"
      ]
     },
     "metadata": {},
     "output_type": "display_data"
    }
   ],
   "source": [
    "top_property_types = df1234['property_type'].value_counts().nlargest(10).index\n",
    "sns.boxplot(x='property_type', y='review_scores_rating', data=df1234[df1234['property_type'].isin(top_property_types)])\n",
    "plt.xticks(rotation=90)\n",
    "plt.title('Review Scores by Property Type')\n",
    "plt.show()"
   ]
  },
  {
   "cell_type": "markdown",
   "id": "e0493692",
   "metadata": {},
   "source": [
    "The box plot is a visualization of the review scores given by guests for different property types on Airbnb. Each box represents the range of review scores for a particular property type, with the median score indicated by a line across the box.\n",
    "\n",
    "All property types have a median review score above 4, which indicates that they have generally received positive reviews. The median scores for different types of properties appear to be relatively consistent, with no dramatic variations. This suggests that guests' satisfaction does not heavily depend on the property type.\n",
    "\n",
    "The interquartile range is similar across most property types, which indicates a consistent level of guest satisfaction. However, a few property types have slightly tighter interquartile ranges, indicating less variability in guest ratings.\n",
    "\n",
    "There are outliers for all property types, both on the lower and higher ends, but mainly on the lower back. This suggests that some listings significantly underperform in guest satisfaction regardless of property type.\n",
    "\n",
    "Most property types show a similar distribution pattern, with the majority of scores falling between 4 and 5, and outliers scattered below the lower range. This suggests a degree of consistency in guest experiences across different property types.\n",
    "\n",
    "The range indicates that some guests rated their experiences on the lower end for every property type. However, the majority of scores are concentrated towards the upper back.\n",
    "\n",
    "From this plot, we can infer that while the property type does not significantly affect the median review score, individual listings within each category can vary considerably in the quality of the guest experience they provide. The consistency of median scores near the upper end of the scale also indicates that most guests are satisfied with their Airbnb experience across various property types. The presence of outliers suggests that individual host performance and specific listing qualities are likely more critical in determining guest satisfaction than the property type alone."
   ]
  },
  {
   "cell_type": "code",
   "execution_count": null,
   "id": "9e57938e",
   "metadata": {},
   "outputs": [],
   "source": []
  },
  {
   "cell_type": "code",
   "execution_count": null,
   "id": "5f6f5614",
   "metadata": {},
   "outputs": [],
   "source": []
  },
  {
   "cell_type": "code",
   "execution_count": null,
   "id": "56339d1c",
   "metadata": {},
   "outputs": [],
   "source": []
  },
  {
   "cell_type": "code",
   "execution_count": null,
   "id": "79e31e9c",
   "metadata": {},
   "outputs": [],
   "source": []
  },
  {
   "cell_type": "code",
   "execution_count": null,
   "id": "bb13e395",
   "metadata": {},
   "outputs": [],
   "source": []
  },
  {
   "cell_type": "code",
   "execution_count": null,
   "id": "35d5a668",
   "metadata": {},
   "outputs": [],
   "source": []
  },
  {
   "cell_type": "code",
   "execution_count": null,
   "id": "a1717c6e",
   "metadata": {},
   "outputs": [],
   "source": []
  },
  {
   "cell_type": "code",
   "execution_count": null,
   "id": "eaa131d4",
   "metadata": {},
   "outputs": [],
   "source": []
  },
  {
   "cell_type": "code",
   "execution_count": null,
   "id": "81255fca",
   "metadata": {},
   "outputs": [],
   "source": []
  },
  {
   "cell_type": "code",
   "execution_count": null,
   "id": "a44a1561",
   "metadata": {},
   "outputs": [],
   "source": []
  },
  {
   "cell_type": "code",
   "execution_count": null,
   "id": "265bba01",
   "metadata": {},
   "outputs": [],
   "source": []
  },
  {
   "cell_type": "code",
   "execution_count": null,
   "id": "2240677d",
   "metadata": {},
   "outputs": [],
   "source": []
  },
  {
   "cell_type": "code",
   "execution_count": null,
   "id": "6766b207",
   "metadata": {},
   "outputs": [],
   "source": []
  },
  {
   "cell_type": "code",
   "execution_count": null,
   "id": "d23a0c69",
   "metadata": {},
   "outputs": [],
   "source": []
  },
  {
   "cell_type": "code",
   "execution_count": null,
   "id": "e6d2316e",
   "metadata": {},
   "outputs": [],
   "source": []
  },
  {
   "cell_type": "code",
   "execution_count": null,
   "id": "16fc9f8b",
   "metadata": {},
   "outputs": [],
   "source": []
  },
  {
   "cell_type": "code",
   "execution_count": null,
   "id": "95b9275e",
   "metadata": {},
   "outputs": [],
   "source": []
  },
  {
   "cell_type": "code",
   "execution_count": null,
   "id": "1c9ed4d1",
   "metadata": {},
   "outputs": [],
   "source": []
  },
  {
   "cell_type": "code",
   "execution_count": null,
   "id": "005a5857",
   "metadata": {},
   "outputs": [],
   "source": []
  },
  {
   "cell_type": "code",
   "execution_count": null,
   "id": "1c74dc65",
   "metadata": {},
   "outputs": [],
   "source": []
  },
  {
   "cell_type": "code",
   "execution_count": null,
   "id": "50b42c08",
   "metadata": {},
   "outputs": [],
   "source": []
  },
  {
   "cell_type": "code",
   "execution_count": null,
   "id": "33f4f3d5",
   "metadata": {},
   "outputs": [],
   "source": []
  },
  {
   "cell_type": "code",
   "execution_count": null,
   "id": "955d7984",
   "metadata": {},
   "outputs": [],
   "source": []
  },
  {
   "cell_type": "code",
   "execution_count": null,
   "id": "1517888d",
   "metadata": {},
   "outputs": [],
   "source": []
  },
  {
   "cell_type": "code",
   "execution_count": null,
   "id": "052bc405",
   "metadata": {},
   "outputs": [],
   "source": []
  },
  {
   "cell_type": "code",
   "execution_count": null,
   "id": "db8c9ede",
   "metadata": {},
   "outputs": [],
   "source": []
  },
  {
   "cell_type": "code",
   "execution_count": null,
   "id": "c56f68ba",
   "metadata": {},
   "outputs": [],
   "source": [
    "# Convert 'first_review' to datetime format\n",
    "df1234['first_review'] = pd.to_datetime(df1234['first_review'])\n",
    "\n",
    "# Extract the year from the datetime column\n",
    "df1234['first_review_year'] = df1234['first_review'].dt.year\n"
   ]
  },
  {
   "cell_type": "code",
   "execution_count": null,
   "id": "1b5aab5c",
   "metadata": {},
   "outputs": [],
   "source": [
    "display (df1234['first_review_year'])"
   ]
  },
  {
   "cell_type": "code",
   "execution_count": null,
   "id": "855f1178",
   "metadata": {},
   "outputs": [],
   "source": [
    "df1234['first_review_year'].unique()"
   ]
  },
  {
   "cell_type": "code",
   "execution_count": null,
   "id": "26961312",
   "metadata": {},
   "outputs": [],
   "source": [
    "# Drop rows where 'first_review_year' is NaN\n",
    "df_cleaned = df1234.dropna(subset=['first_review_year'])"
   ]
  },
  {
   "cell_type": "code",
   "execution_count": null,
   "id": "cffd774d",
   "metadata": {},
   "outputs": [],
   "source": [
    "display(df_cleaned['first_review_year'].unique())"
   ]
  },
  {
   "cell_type": "code",
   "execution_count": null,
   "id": "22fc9d88",
   "metadata": {},
   "outputs": [],
   "source": [
    "df1234['review_scores_rating'].unique()"
   ]
  },
  {
   "cell_type": "code",
   "execution_count": null,
   "id": "89201a93",
   "metadata": {},
   "outputs": [],
   "source": [
    "df_cleaned1 = df_cleaned.dropna(subset=['review_scores_rating'])"
   ]
  },
  {
   "cell_type": "code",
   "execution_count": null,
   "id": "f1a54642",
   "metadata": {},
   "outputs": [],
   "source": [
    "df_cleaned1['review_scores_rating'].unique()"
   ]
  },
  {
   "cell_type": "code",
   "execution_count": null,
   "id": "7131488e",
   "metadata": {},
   "outputs": [],
   "source": []
  }
 ],
 "metadata": {
  "kernelspec": {
   "display_name": "Python 3 (ipykernel)",
   "language": "python",
   "name": "python3"
  },
  "language_info": {
   "codemirror_mode": {
    "name": "ipython",
    "version": 3
   },
   "file_extension": ".py",
   "mimetype": "text/x-python",
   "name": "python",
   "nbconvert_exporter": "python",
   "pygments_lexer": "ipython3",
   "version": "3.11.5"
  }
 },
 "nbformat": 4,
 "nbformat_minor": 5
}
